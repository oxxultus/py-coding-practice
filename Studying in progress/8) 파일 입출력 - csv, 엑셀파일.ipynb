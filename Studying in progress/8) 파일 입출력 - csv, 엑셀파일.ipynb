{
 "cells": [
  {
   "cell_type": "markdown",
   "metadata": {
    "id": "I-QQBeJhxOEy"
   },
   "source": [
    "### **1. CSV 파일 이해하기**"
   ]
  },
  {
   "cell_type": "markdown",
   "metadata": {
    "id": "rbEEskEZygb-"
   },
   "source": [
    "### **2. 파이썬으로 CSV 파일 다루기**"
   ]
  },
  {
   "cell_type": "code",
   "execution_count": 2,
   "metadata": {},
   "outputs": [],
   "source": [
    "import csv"
   ]
  },
  {
   "cell_type": "markdown",
   "metadata": {
    "id": "gTuW_OXW18h0"
   },
   "source": [
    "from google.colab import files\n",
    "f = files.upload()"
   ]
  },
  {
   "cell_type": "code",
   "execution_count": 3,
   "metadata": {
    "id": "hBo2V0Ee2n3T"
   },
   "outputs": [
    {
     "name": "stdout",
     "output_type": "stream",
     "text": [
      "['ID', '이름', '상징색', '취미', '특징']\n",
      "['001', '뽀로로', '파랑색', '낚시', '펭귄']\n",
      "['002', '에디', '주황색', '과학실험', '사막여우']\n",
      "['003', '크롱', '초록색', '눈싸움', '공룡']\n",
      "['004', '루피', '분홍색', '요리', '비버']\n",
      "['005', '패티', '보라색', '운동', '펭귄']\n"
     ]
    }
   ],
   "source": [
    "# CSV 파일 열기\n",
    "f = open('reference files/csv/characters.csv', 'r', encoding='cp949')\n",
    "\n",
    "# csv.reader를 사용하여 파일 읽기\n",
    "rdr = csv.reader(f)\n",
    "\n",
    "# 한 줄씩 읽어서 출력\n",
    "for line in rdr:\n",
    "    print(line)\n",
    "    \n",
    "# 파일 닫기\n",
    "f.close()"
   ]
  },
  {
   "cell_type": "code",
   "execution_count": 4,
   "metadata": {
    "id": "4SzfKHM6UAcw"
   },
   "outputs": [
    {
     "name": "stdout",
     "output_type": "stream",
     "text": [
      "이름\n",
      "뽀로로\n",
      "에디\n",
      "크롱\n",
      "루피\n",
      "패티\n"
     ]
    }
   ],
   "source": [
    "# CSV 파일 열기\n",
    "f = open('reference files/csv/characters.csv', 'r', encoding='cp949')\n",
    "\n",
    "# csv.reader를 사용하여 파일 읽기\n",
    "rdr = csv.reader(f)\n",
    "\n",
    "# 한 줄씩 읽어서 두 번째 열만 출력\n",
    "for line in rdr:\n",
    "    print(line[1])\n",
    "    \n",
    "# 파일 닫기\n",
    "f.close()"
   ]
  },
  {
   "cell_type": "code",
   "execution_count": 5,
   "metadata": {
    "executionInfo": {
     "elapsed": 3,
     "status": "ok",
     "timestamp": 1689571363767,
     "user": {
      "displayName": "안비단",
      "userId": "14578315619824770276"
     },
     "user_tz": -540
    },
    "id": "hDGwIj3wSZIw"
   },
   "outputs": [],
   "source": [
    "# CSV 파일을 쓰기 모드로 열기\n",
    "# 'newline' 매개변수는 빈 줄을 자동으로 삽입하지 않도록 합니다.\n",
    "f = open('reference files/csv/write.csv', 'w', encoding='cp949', newline='')\n",
    "# csv.writer 객체 생성\n",
    "wr = csv.writer(f)\n",
    "\n",
    "# 각 행에 데이터 작성\n",
    "# 첫 번째 행은 열의 이름\n",
    "wr.writerow(['ID', '이름', '상징색', '취미', '특징'])\n",
    "\n",
    "# 나머지 행은 실제 데이터\n",
    "wr.writerow(['규찬', '명기', '태균', '아현', '의담'])\n",
    "wr.writerow(['001', '뽀로로', '파랑색', '낚시', '펭귄'])\n",
    "wr.writerow(['002', '에디', '주황색', '과학실험', '사막여우'])\n",
    "wr.writerow(['003', '크롱', '초록색', '눈싸움', '공룡'])\n",
    "wr.writerow(['004', '루피', '분홍색', '요리', '비버'])\n",
    "wr.writerow(['005', '패티', '보라색', '운동', '펭귄'])\n",
    "\n",
    "# 파일 닫기\n",
    "f.close()"
   ]
  },
  {
   "cell_type": "code",
   "execution_count": 6,
   "metadata": {
    "executionInfo": {
     "elapsed": 274,
     "status": "ok",
     "timestamp": 1689571376630,
     "user": {
      "displayName": "안비단",
      "userId": "14578315619824770276"
     },
     "user_tz": -540
    },
    "id": "Iylcsu_-b0Ca"
   },
   "outputs": [],
   "source": [
    "# CSV 파일을 추가 모드로 열기\n",
    "# 'newline' 매개변수는 빈 줄을 자동으로 삽입하지 않도록 합니다.\n",
    "f = open('reference files/csv/write.csv', 'a', encoding='cp949', newline='')\n",
    "\n",
    "# csv.writer 객체 생성\n",
    "wr = csv.writer(f)\n",
    "\n",
    "# 추가할 데이터를 행에 작성\n",
    "wr.writerow(['006', '포비', '흰색', '춤', '북극곰'])\n",
    "\n",
    "# 파일 닫기\n",
    "f.close()"
   ]
  },
  {
   "cell_type": "markdown",
   "metadata": {},
   "source": [
    "### **LAb 문제** ###"
   ]
  },
  {
   "cell_type": "code",
   "execution_count": 7,
   "metadata": {},
   "outputs": [],
   "source": [
    "# CSV 파일을 쓰기 모드로 열기\n",
    "# 'newline' 매개변수는 빈 줄을 자동으로 삽입하지 않도록 합니다.\n",
    "f = open('reference files/csv/weather.csv', 'w', newline='')\n",
    "# csv.writer 객체 생성\n",
    "wr = csv.writer(f)\n",
    "\n",
    "# 헤더 행 작성\n",
    "wr.writerow(['날짜', '요일', '날씨', '최저기온', '최고기온', '강수량'])\n",
    "\n",
    "# 날씨 정보를 행에 작성\n",
    "wr.writerow(['20230101', '월', '맑음', -4.3, 3.8, 0])\n",
    "wr.writerow(['20230102', '화', '맑음', -7.4, 0.4, 0])\n",
    "wr.writerow(['20230103', '수', '맑음', -9.0, 0.6, 0])\n",
    "\n",
    "# 파일 닫기\n",
    "f.close()"
   ]
  },
  {
   "cell_type": "markdown",
   "metadata": {},
   "source": [
    "### **2. 파이썬으로 엑셀 파일 읽기**"
   ]
  },
  {
   "cell_type": "markdown",
   "metadata": {},
   "source": [
    "from google.colab import files\n",
    "f = files.upload()"
   ]
  },
  {
   "cell_type": "code",
   "execution_count": 8,
   "metadata": {},
   "outputs": [
    {
     "name": "stdout",
     "output_type": "stream",
     "text": [
      "Requirement already satisfied: openpyxl in /opt/anaconda3/lib/python3.11/site-packages (3.0.10)\n",
      "Requirement already satisfied: et_xmlfile in /opt/anaconda3/lib/python3.11/site-packages (from openpyxl) (1.1.0)\n"
     ]
    }
   ],
   "source": [
    "# openpyxl은 엑셀 파일을 다루는 파이썬 라이브러리 중 하나\n",
    "#실행해서 다운하기 처음 1회 \n",
    "!pip install openpyxl "
   ]
  },
  {
   "cell_type": "code",
   "execution_count": 9,
   "metadata": {},
   "outputs": [],
   "source": [
    "import openpyxl\n",
    "\n",
    "# Excel 파일을 열고 workbook 객체 생성\n",
    "wb = openpyxl.load_workbook('reference files/xlsx/characters.xlsx')"
   ]
  },
  {
   "cell_type": "code",
   "execution_count": 10,
   "metadata": {},
   "outputs": [
    {
     "name": "stdout",
     "output_type": "stream",
     "text": [
      "['Sheet1']\n"
     ]
    }
   ],
   "source": [
    "# 워크북에 포함된 시트의 이름을 출력\n",
    "print(wb.sheetnames)"
   ]
  },
  {
   "cell_type": "code",
   "execution_count": 11,
   "metadata": {},
   "outputs": [
    {
     "name": "stdout",
     "output_type": "stream",
     "text": [
      "ID\n"
     ]
    }
   ],
   "source": [
    "# 'Sheet1' 시트를 선택하여 해당 시트의 A1 셀의 값을 출력\n",
    "sheet1 = wb['Sheet1']  # 'Sheet1' 시트 선택\n",
    "print(sheet1['A1'].value)  # A1 셀의 값 출력"
   ]
  },
  {
   "cell_type": "markdown",
   "metadata": {},
   "source": [
    "### **3. 파이썬으로 엑셀 파일 작성하기**"
   ]
  },
  {
   "cell_type": "code",
   "execution_count": 12,
   "metadata": {},
   "outputs": [],
   "source": [
    "# 새로운 Excel 워크북을 생성합니다.\n",
    "wb = openpyxl.Workbook()"
   ]
  },
  {
   "cell_type": "code",
   "execution_count": 13,
   "metadata": {},
   "outputs": [
    {
     "name": "stdout",
     "output_type": "stream",
     "text": [
      "['Sheet', 'Sheet2']\n"
     ]
    }
   ],
   "source": [
    "# Excel 워크북에 'Sheet2'라는 이름의 새 시트를 추가합니다.\n",
    "wb.create_sheet('Sheet2')\n",
    "\n",
    "# 변경된 시트 목록을 출력합니다.\n",
    "print(wb.sheetnames)"
   ]
  },
  {
   "cell_type": "code",
   "execution_count": 14,
   "metadata": {},
   "outputs": [
    {
     "name": "stdout",
     "output_type": "stream",
     "text": [
      "['캐릭터 명단', '인기도 조사']\n"
     ]
    }
   ],
   "source": [
    "# 시트 이름을 할당하고 출력합니다\n",
    "sheet1 = wb['Sheet']  # Sheet1을 '캐릭터 명단'으로 변경합니다\n",
    "sheet2 = wb['Sheet2']  # Sheet2를 '인기도 조사'로 변경합니다\n",
    "\n",
    "sheet1.title = '캐릭터 명단'  # Sheet1의 이름을 '캐릭터 명단'으로 변경합니다\n",
    "sheet2.title = '인기도 조사'  # Sheet2의 이름을 '인기도 조사'로 변경합니다\n",
    "\n",
    "print(wb.sheetnames)  # 업데이트된 시트 이름을 출력합니다\n"
   ]
  },
  {
   "cell_type": "code",
   "execution_count": 15,
   "metadata": {},
   "outputs": [
    {
     "name": "stdout",
     "output_type": "stream",
     "text": [
      "인기도 조사결과\n"
     ]
    }
   ],
   "source": [
    "sheet2['B1'] = '인기도 조사결과'  # Sheet2의 B1 셀에 '인기도 조사결과'를 할당합니다\n",
    "print(sheet2['B1'].value)  # B1 셀의 값을 출력합니다"
   ]
  },
  {
   "cell_type": "code",
   "execution_count": 16,
   "metadata": {},
   "outputs": [
    {
     "name": "stdout",
     "output_type": "stream",
     "text": [
      "['캐릭터 명단', '인기도 조사', '인기도 조사 Copy']\n"
     ]
    }
   ],
   "source": [
    "copysheet = wb.copy_worksheet(sheet2)  # Sheet2를 복사하여 새 시트를 생성합니다\n",
    "print(wb.sheetnames)  # 업데이트된 시트 이름을 출력합니다"
   ]
  },
  {
   "cell_type": "code",
   "execution_count": 17,
   "metadata": {},
   "outputs": [
    {
     "name": "stdout",
     "output_type": "stream",
     "text": [
      "['캐릭터 명단', '인기도 조사', 'copy']\n",
      "인기도 조사결과\n"
     ]
    }
   ],
   "source": [
    "copysheet.title = 'copy'  # 복사된 시트의 이름을 'copy'로 변경합니다\n",
    "print(wb.sheetnames)  # 업데이트된 시트 이름을 출력합니다\n",
    "print(copysheet['B1'].value)  # 복사된 시트의 B1 셀의 값을 출력합니다"
   ]
  },
  {
   "cell_type": "code",
   "execution_count": 18,
   "metadata": {},
   "outputs": [
    {
     "name": "stdout",
     "output_type": "stream",
     "text": [
      "['캐릭터 명단', 'copy']\n"
     ]
    }
   ],
   "source": [
    "del wb['인기도 조사']  # '인기도 조사' 시트를 삭제합니다\n",
    "print(wb.sheetnames)  # 업데이트된 시트 이름을 출력합니다"
   ]
  },
  {
   "cell_type": "code",
   "execution_count": 19,
   "metadata": {},
   "outputs": [],
   "source": [
    "wb.save('reference files/xlsx/complete2.xlsx')  # 변경 사항을 포함한 워크북을 새 파일에 저장합니다"
   ]
  },
  {
   "cell_type": "markdown",
   "metadata": {},
   "source": [
    "### **실전분석** ##"
   ]
  },
  {
   "cell_type": "markdown",
   "metadata": {},
   "source": [
    "f = files.upload()"
   ]
  },
  {
   "cell_type": "code",
   "execution_count": 20,
   "metadata": {},
   "outputs": [],
   "source": [
    "wb = openpyxl.Workbook()  # 새 워크북을 생성합니다\n",
    "ws = wb.active  # 활성 시트에 대한 참조를 가져옵니다"
   ]
  },
  {
   "cell_type": "code",
   "execution_count": 21,
   "metadata": {},
   "outputs": [],
   "source": [
    "with open('reference files/csv/data1.csv', encoding='cp949') as f:\n",
    "    reader = csv.reader(f)  # CSV 파일을 읽는 객체를 생성합니다\n",
    "    for row in reader:\n",
    "        ws.append(row)  # CSV 파일의 각 행을 워크시트에 추가합니다"
   ]
  },
  {
   "cell_type": "code",
   "execution_count": 22,
   "metadata": {},
   "outputs": [],
   "source": [
    "ws2 = wb.create_sheet('Sheet2')  # 'Sheet2'라는 이름의 새 시트를 생성합니다\n",
    "\n",
    "with open('reference files/csv/data2.csv', encoding='cp949') as f:\n",
    "    reader = csv.reader(f)  # CSV 파일을 읽는 객체를 생성합니다\n",
    "    for row in reader:\n",
    "        ws2.append(row)  # CSV 파일의 각 행을 ws2 시트에 추가합니다"
   ]
  },
  {
   "cell_type": "code",
   "execution_count": 23,
   "metadata": {},
   "outputs": [],
   "source": [
    "ws3 = wb.create_sheet('Sheet3')  # 'Sheet3'라는 이름의 새 시트를 생성합니다\n",
    "\n",
    "with open('reference files/csv/data3.csv', encoding='cp949') as f:\n",
    "    reader = csv.reader(f)  # CSV 파일을 읽는 객체를 생성합니다\n",
    "    for row in reader:\n",
    "        ws3.append(row)  # CSV 파일의 각 행을 ws3 시트에 추가합니다"
   ]
  },
  {
   "cell_type": "code",
   "execution_count": 24,
   "metadata": {},
   "outputs": [],
   "source": [
    "ws.title = '11111'  # ws 시트의 이름을 '11111'로 변경합니다\n",
    "ws2.title = '2222'  # ws2 시트의 이름을 '2222'로 변경합니다\n",
    "ws3.title = '33333'  # ws3 시트의 이름을 '33333'로 변경합니다\n",
    "wb.save('reference files/xlsx/tr333333.xlsx')  # 변경 사항을 포함하여 워크북을 파일로 저장합니다"
   ]
  },
  {
   "cell_type": "code",
   "execution_count": 25,
   "metadata": {},
   "outputs": [],
   "source": [
    "ws.title = '경기도 의정부시_의정부경전철 혼잡도'  # ws 시트의 이름을 '경기도 의정부시_의정부경전철 혼잡도'로 변경합니다\n",
    "ws2.title = '대전교통공사_열차 혼잡도 분석'  # ws2 시트의 이름을 '대전교통공사_열차 혼잡도 분석'로 변경합니다\n",
    "ws3.title = '서울특별시_지하철 혼잡도 정보'  # ws3 시트의 이름을 '서울특별시_지하철 혼잡도 정보'로 변경합니다\n",
    "wb.save('reference files/xlsx/tr2.xlsx')  # 변경 사항을 포함하여 워크북을 파일로 저장합니다"
   ]
  },
  {
   "cell_type": "markdown",
   "metadata": {},
   "source": [
    "## 데이터전처리 - 쓸모없는 값을 실행전 수정하는 것(NaN)"
   ]
  },
  {
   "cell_type": "code",
   "execution_count": 26,
   "metadata": {},
   "outputs": [],
   "source": [
    "import os\n",
    "import numpy as np\n",
    "import pandas as pd\n",
    "import matplotlib.pyplot as plt\n",
    "import warnings\n",
    "from datetime import *\n",
    "warnings.filterwarnings('ignore')"
   ]
  },
  {
   "cell_type": "code",
   "execution_count": 27,
   "metadata": {},
   "outputs": [
    {
     "data": {
      "text/html": [
       "<div>\n",
       "<style scoped>\n",
       "    .dataframe tbody tr th:only-of-type {\n",
       "        vertical-align: middle;\n",
       "    }\n",
       "\n",
       "    .dataframe tbody tr th {\n",
       "        vertical-align: top;\n",
       "    }\n",
       "\n",
       "    .dataframe thead th {\n",
       "        text-align: right;\n",
       "    }\n",
       "</style>\n",
       "<table border=\"1\" class=\"dataframe\">\n",
       "  <thead>\n",
       "    <tr style=\"text-align: right;\">\n",
       "      <th></th>\n",
       "      <th>A</th>\n",
       "      <th>B</th>\n",
       "      <th>C</th>\n",
       "    </tr>\n",
       "  </thead>\n",
       "  <tbody>\n",
       "    <tr>\n",
       "      <th>0</th>\n",
       "      <td>1.0</td>\n",
       "      <td>6.0</td>\n",
       "      <td>11.0</td>\n",
       "    </tr>\n",
       "    <tr>\n",
       "      <th>1</th>\n",
       "      <td>2.0</td>\n",
       "      <td>7.0</td>\n",
       "      <td>12.0</td>\n",
       "    </tr>\n",
       "    <tr>\n",
       "      <th>2</th>\n",
       "      <td>NaN</td>\n",
       "      <td>8.0</td>\n",
       "      <td>13.0</td>\n",
       "    </tr>\n",
       "    <tr>\n",
       "      <th>3</th>\n",
       "      <td>4.0</td>\n",
       "      <td>NaN</td>\n",
       "      <td>NaN</td>\n",
       "    </tr>\n",
       "    <tr>\n",
       "      <th>4</th>\n",
       "      <td>5.0</td>\n",
       "      <td>10.0</td>\n",
       "      <td>NaN</td>\n",
       "    </tr>\n",
       "  </tbody>\n",
       "</table>\n",
       "</div>"
      ],
      "text/plain": [
       "     A     B     C\n",
       "0  1.0   6.0  11.0\n",
       "1  2.0   7.0  12.0\n",
       "2  NaN   8.0  13.0\n",
       "3  4.0   NaN   NaN\n",
       "4  5.0  10.0   NaN"
      ]
     },
     "execution_count": 27,
     "metadata": {},
     "output_type": "execute_result"
    }
   ],
   "source": [
    "df = pd.DataFrame({'A' : [1,2,np.nan,4,5],\n",
    "                   'B' : [6,7,8,np.nan,10],\n",
    "                   'C' : [11,12,13,np.nan,np.nan]})\n",
    "df"
   ]
  },
  {
   "cell_type": "code",
   "execution_count": 28,
   "metadata": {},
   "outputs": [
    {
     "data": {
      "text/html": [
       "<div>\n",
       "<style scoped>\n",
       "    .dataframe tbody tr th:only-of-type {\n",
       "        vertical-align: middle;\n",
       "    }\n",
       "\n",
       "    .dataframe tbody tr th {\n",
       "        vertical-align: top;\n",
       "    }\n",
       "\n",
       "    .dataframe thead th {\n",
       "        text-align: right;\n",
       "    }\n",
       "</style>\n",
       "<table border=\"1\" class=\"dataframe\">\n",
       "  <thead>\n",
       "    <tr style=\"text-align: right;\">\n",
       "      <th></th>\n",
       "      <th>A</th>\n",
       "      <th>B</th>\n",
       "      <th>C</th>\n",
       "    </tr>\n",
       "  </thead>\n",
       "  <tbody>\n",
       "    <tr>\n",
       "      <th>0</th>\n",
       "      <td>False</td>\n",
       "      <td>False</td>\n",
       "      <td>False</td>\n",
       "    </tr>\n",
       "    <tr>\n",
       "      <th>1</th>\n",
       "      <td>False</td>\n",
       "      <td>False</td>\n",
       "      <td>False</td>\n",
       "    </tr>\n",
       "    <tr>\n",
       "      <th>2</th>\n",
       "      <td>True</td>\n",
       "      <td>False</td>\n",
       "      <td>False</td>\n",
       "    </tr>\n",
       "    <tr>\n",
       "      <th>3</th>\n",
       "      <td>False</td>\n",
       "      <td>True</td>\n",
       "      <td>True</td>\n",
       "    </tr>\n",
       "    <tr>\n",
       "      <th>4</th>\n",
       "      <td>False</td>\n",
       "      <td>False</td>\n",
       "      <td>True</td>\n",
       "    </tr>\n",
       "  </tbody>\n",
       "</table>\n",
       "</div>"
      ],
      "text/plain": [
       "       A      B      C\n",
       "0  False  False  False\n",
       "1  False  False  False\n",
       "2   True  False  False\n",
       "3  False   True   True\n",
       "4  False  False   True"
      ]
     },
     "execution_count": 28,
     "metadata": {},
     "output_type": "execute_result"
    }
   ],
   "source": [
    "pd.isna(df)"
   ]
  },
  {
   "cell_type": "code",
   "execution_count": 29,
   "metadata": {},
   "outputs": [
    {
     "data": {
      "text/plain": [
       "A    1\n",
       "B    1\n",
       "C    2\n",
       "dtype: int64"
      ]
     },
     "execution_count": 29,
     "metadata": {},
     "output_type": "execute_result"
    }
   ],
   "source": [
    "pd.isna(df).sum() # nan의 합을 출력"
   ]
  },
  {
   "cell_type": "code",
   "execution_count": 30,
   "metadata": {},
   "outputs": [
    {
     "data": {
      "text/html": [
       "<div>\n",
       "<style scoped>\n",
       "    .dataframe tbody tr th:only-of-type {\n",
       "        vertical-align: middle;\n",
       "    }\n",
       "\n",
       "    .dataframe tbody tr th {\n",
       "        vertical-align: top;\n",
       "    }\n",
       "\n",
       "    .dataframe thead th {\n",
       "        text-align: right;\n",
       "    }\n",
       "</style>\n",
       "<table border=\"1\" class=\"dataframe\">\n",
       "  <thead>\n",
       "    <tr style=\"text-align: right;\">\n",
       "      <th></th>\n",
       "      <th>A</th>\n",
       "      <th>B</th>\n",
       "      <th>C</th>\n",
       "    </tr>\n",
       "  </thead>\n",
       "  <tbody>\n",
       "    <tr>\n",
       "      <th>0</th>\n",
       "      <td>1.0</td>\n",
       "      <td>6.0</td>\n",
       "      <td>11.0</td>\n",
       "    </tr>\n",
       "    <tr>\n",
       "      <th>1</th>\n",
       "      <td>2.0</td>\n",
       "      <td>7.0</td>\n",
       "      <td>12.0</td>\n",
       "    </tr>\n",
       "  </tbody>\n",
       "</table>\n",
       "</div>"
      ],
      "text/plain": [
       "     A    B     C\n",
       "0  1.0  6.0  11.0\n",
       "1  2.0  7.0  12.0"
      ]
     },
     "execution_count": 30,
     "metadata": {},
     "output_type": "execute_result"
    }
   ],
   "source": [
    "df_drop_nan = df.dropna()\n",
    "df_drop_nan"
   ]
  },
  {
   "cell_type": "code",
   "execution_count": 31,
   "metadata": {},
   "outputs": [
    {
     "data": {
      "text/html": [
       "<div>\n",
       "<style scoped>\n",
       "    .dataframe tbody tr th:only-of-type {\n",
       "        vertical-align: middle;\n",
       "    }\n",
       "\n",
       "    .dataframe tbody tr th {\n",
       "        vertical-align: top;\n",
       "    }\n",
       "\n",
       "    .dataframe thead th {\n",
       "        text-align: right;\n",
       "    }\n",
       "</style>\n",
       "<table border=\"1\" class=\"dataframe\">\n",
       "  <thead>\n",
       "    <tr style=\"text-align: right;\">\n",
       "      <th></th>\n",
       "      <th>A</th>\n",
       "      <th>B</th>\n",
       "      <th>C</th>\n",
       "    </tr>\n",
       "  </thead>\n",
       "  <tbody>\n",
       "    <tr>\n",
       "      <th>0</th>\n",
       "      <td>1.0</td>\n",
       "      <td>6.0</td>\n",
       "      <td>11.0</td>\n",
       "    </tr>\n",
       "    <tr>\n",
       "      <th>1</th>\n",
       "      <td>2.0</td>\n",
       "      <td>7.0</td>\n",
       "      <td>12.0</td>\n",
       "    </tr>\n",
       "    <tr>\n",
       "      <th>2</th>\n",
       "      <td>NaN</td>\n",
       "      <td>8.0</td>\n",
       "      <td>13.0</td>\n",
       "    </tr>\n",
       "  </tbody>\n",
       "</table>\n",
       "</div>"
      ],
      "text/plain": [
       "     A    B     C\n",
       "0  1.0  6.0  11.0\n",
       "1  2.0  7.0  12.0\n",
       "2  NaN  8.0  13.0"
      ]
     },
     "execution_count": 31,
     "metadata": {},
     "output_type": "execute_result"
    }
   ],
   "source": [
    "df_drop_B_C = df.dropna(subset=['B','C'])\n",
    "df_drop_B_C"
   ]
  },
  {
   "cell_type": "code",
   "execution_count": 32,
   "metadata": {},
   "outputs": [
    {
     "data": {
      "text/html": [
       "<div>\n",
       "<style scoped>\n",
       "    .dataframe tbody tr th:only-of-type {\n",
       "        vertical-align: middle;\n",
       "    }\n",
       "\n",
       "    .dataframe tbody tr th {\n",
       "        vertical-align: top;\n",
       "    }\n",
       "\n",
       "    .dataframe thead th {\n",
       "        text-align: right;\n",
       "    }\n",
       "</style>\n",
       "<table border=\"1\" class=\"dataframe\">\n",
       "  <thead>\n",
       "    <tr style=\"text-align: right;\">\n",
       "      <th></th>\n",
       "      <th>A</th>\n",
       "      <th>B</th>\n",
       "      <th>C</th>\n",
       "    </tr>\n",
       "  </thead>\n",
       "  <tbody>\n",
       "    <tr>\n",
       "      <th>0</th>\n",
       "      <td>False</td>\n",
       "      <td>False</td>\n",
       "      <td>False</td>\n",
       "    </tr>\n",
       "    <tr>\n",
       "      <th>1</th>\n",
       "      <td>False</td>\n",
       "      <td>False</td>\n",
       "      <td>False</td>\n",
       "    </tr>\n",
       "    <tr>\n",
       "      <th>2</th>\n",
       "      <td>True</td>\n",
       "      <td>False</td>\n",
       "      <td>False</td>\n",
       "    </tr>\n",
       "    <tr>\n",
       "      <th>3</th>\n",
       "      <td>False</td>\n",
       "      <td>True</td>\n",
       "      <td>True</td>\n",
       "    </tr>\n",
       "    <tr>\n",
       "      <th>4</th>\n",
       "      <td>False</td>\n",
       "      <td>False</td>\n",
       "      <td>True</td>\n",
       "    </tr>\n",
       "  </tbody>\n",
       "</table>\n",
       "</div>"
      ],
      "text/plain": [
       "       A      B      C\n",
       "0  False  False  False\n",
       "1  False  False  False\n",
       "2   True  False  False\n",
       "3  False   True   True\n",
       "4  False  False   True"
      ]
     },
     "execution_count": 32,
     "metadata": {},
     "output_type": "execute_result"
    }
   ],
   "source": [
    "pd.isna(df)"
   ]
  },
  {
   "cell_type": "code",
   "execution_count": 33,
   "metadata": {},
   "outputs": [
    {
     "name": "stdout",
     "output_type": "stream",
     "text": [
      "0    11.0\n",
      "1    12.0\n",
      "2    13.0\n",
      "3     0.0\n",
      "4     0.0\n",
      "Name: C, dtype: float64\n"
     ]
    }
   ],
   "source": [
    "df_0 = df['C'].fillna(0)\n",
    "print(df_0)"
   ]
  },
  {
   "cell_type": "code",
   "execution_count": 34,
   "metadata": {},
   "outputs": [
    {
     "data": {
      "text/plain": [
       "0        1.0\n",
       "1        2.0\n",
       "2    missing\n",
       "3        4.0\n",
       "4        5.0\n",
       "Name: A, dtype: object"
      ]
     },
     "execution_count": 34,
     "metadata": {},
     "output_type": "execute_result"
    }
   ],
   "source": [
    "df_missing = df['A'].fillna('missing')\n",
    "df_missing"
   ]
  },
  {
   "cell_type": "code",
   "execution_count": 35,
   "metadata": {},
   "outputs": [
    {
     "name": "stdout",
     "output_type": "stream",
     "text": [
      "     A     B     C\n",
      "0  1.0   6.0  11.0\n",
      "1  2.0   7.0  12.0\n",
      "2  NaN   8.0  13.0\n",
      "3  4.0   NaN   NaN\n",
      "4  5.0  10.0   NaN \n",
      "\n",
      "     A      B     C\n",
      "0  1.0   6.00  11.0\n",
      "1  2.0   7.00  12.0\n",
      "2  3.0   8.00  13.0\n",
      "3  4.0   7.75  12.0\n",
      "4  5.0  10.00  12.0\n",
      "     A     B     C\n",
      "0  1.0   6.0  11.0\n",
      "1  2.0   7.0  12.0\n",
      "2  NaN   8.0  13.0\n",
      "3  4.0   NaN   NaN\n",
      "4  5.0  10.0   NaN \n",
      "\n"
     ]
    }
   ],
   "source": [
    "#df.fillna(df.mean(), inplace = True)\n",
    "df_mean = df.fillna(df.mean())\n",
    "print(df,'\\n')\n",
    "print(df_mean)\n",
    "print(df,'\\n')"
   ]
  },
  {
   "cell_type": "code",
   "execution_count": 36,
   "metadata": {},
   "outputs": [
    {
     "name": "stdout",
     "output_type": "stream",
     "text": [
      "     A     B     C\n",
      "0  1.0   6.0  11.0\n",
      "1  2.0   7.0  12.0\n",
      "2  2.0   8.0  13.0\n",
      "3  4.0   8.0  13.0\n",
      "4  5.0  10.0  13.0 \n",
      "\n"
     ]
    }
   ],
   "source": [
    "df_fill = df.fillna(method = 'ffill') # NAN값을 전 값으로 채움\n",
    "print(df_fill,'\\n')"
   ]
  },
  {
   "cell_type": "code",
   "execution_count": 37,
   "metadata": {},
   "outputs": [
    {
     "name": "stdout",
     "output_type": "stream",
     "text": [
      "     A     B     C\n",
      "0  1.0   6.0  11.0\n",
      "1  2.0   7.0  12.0\n",
      "2  4.0   8.0  13.0\n",
      "3  4.0  10.0   NaN\n",
      "4  5.0  10.0   NaN\n"
     ]
    }
   ],
   "source": [
    "df_bfill = df.fillna(method = 'bfill') # NAN값을 다음값으로 채움\n",
    "print(df_bfill)"
   ]
  },
  {
   "cell_type": "code",
   "execution_count": 38,
   "metadata": {},
   "outputs": [],
   "source": [
    "fill_dict = {'A':df['A'].mean(),'B':'12/25','C':'missing'} # NAN값을 A의 평균,12/25,MISSING으로 채움 \n",
    "df_filled= df.fillna(fill_dict)"
   ]
  },
  {
   "cell_type": "markdown",
   "metadata": {},
   "source": [
    "## 이상치를 제거하는것 박스플롯,IQR(분위수Q1 - 25, Q2 - 50, Q1- 1.5 * IQR = 최솟값, Q3 +1.5 * IQR = 최댓값"
   ]
  },
  {
   "cell_type": "code",
   "execution_count": 39,
   "metadata": {},
   "outputs": [
    {
     "data": {
      "text/plain": [
       "['대전태평(암반)_2016_hr.xlsx',\n",
       " '대전태평(암반)_2015_hr.xlsx',\n",
       " '대전태평(암반)_2014_hr.xlsx',\n",
       " '대전태평(암반)_2011_hr.xlsx',\n",
       " '대전태평(암반)_2010_hr.xlsx',\n",
       " '대전태평(암반)_2009_hr.xlsx',\n",
       " '대전태평(암반)_2012_hr.xlsx',\n",
       " '대전태평(암반)_2013_hr.xlsx']"
      ]
     },
     "execution_count": 39,
     "metadata": {},
     "output_type": "execute_result"
    }
   ],
   "source": [
    "path = 'reference files/xlsx/대전태평/' # \n",
    "file_list = os.listdir(path) # 탐색기 \n",
    "file_list"
   ]
  },
  {
   "cell_type": "code",
   "execution_count": 40,
   "metadata": {},
   "outputs": [
    {
     "data": {
      "text/plain": [
       "['대전태평(암반)_2016_hr.xlsx',\n",
       " '대전태평(암반)_2015_hr.xlsx',\n",
       " '대전태평(암반)_2014_hr.xlsx',\n",
       " '대전태평(암반)_2011_hr.xlsx',\n",
       " '대전태평(암반)_2010_hr.xlsx',\n",
       " '대전태평(암반)_2009_hr.xlsx',\n",
       " '대전태평(암반)_2012_hr.xlsx',\n",
       " '대전태평(암반)_2013_hr.xlsx']"
      ]
     },
     "execution_count": 40,
     "metadata": {},
     "output_type": "execute_result"
    }
   ],
   "source": [
    "file_list_py = [file for file in file_list if file.endswith('.xlsx')] # 엑셀 파일만 확인\n",
    "file_list_py"
   ]
  },
  {
   "cell_type": "code",
   "execution_count": 41,
   "metadata": {},
   "outputs": [
    {
     "data": {
      "text/plain": [
       "['대전태평(암반)_2016_hr.xlsx',\n",
       " '대전태평(암반)_2015_hr.xlsx',\n",
       " '대전태평(암반)_2014_hr.xlsx',\n",
       " '대전태평(암반)_2011_hr.xlsx',\n",
       " '대전태평(암반)_2010_hr.xlsx',\n",
       " '대전태평(암반)_2009_hr.xlsx',\n",
       " '대전태평(암반)_2012_hr.xlsx',\n",
       " '대전태평(암반)_2013_hr.xlsx']"
      ]
     },
     "execution_count": 41,
     "metadata": {},
     "output_type": "execute_result"
    }
   ],
   "source": [
    "file_list_py = [file for file in file_list if file.endswith('.xlsx')]\n",
    "file_list_py"
   ]
  },
  {
   "cell_type": "code",
   "execution_count": 42,
   "metadata": {},
   "outputs": [
    {
     "data": {
      "text/html": [
       "<div>\n",
       "<style scoped>\n",
       "    .dataframe tbody tr th:only-of-type {\n",
       "        vertical-align: middle;\n",
       "    }\n",
       "\n",
       "    .dataframe tbody tr th {\n",
       "        vertical-align: top;\n",
       "    }\n",
       "\n",
       "    .dataframe thead th {\n",
       "        text-align: right;\n",
       "    }\n",
       "</style>\n",
       "<table border=\"1\" class=\"dataframe\">\n",
       "  <thead>\n",
       "    <tr style=\"text-align: right;\">\n",
       "      <th></th>\n",
       "      <th>관측소</th>\n",
       "      <th>구분</th>\n",
       "      <th>날짜</th>\n",
       "      <th>시간</th>\n",
       "      <th>수온(℃)</th>\n",
       "      <th>수위(el.m)</th>\n",
       "      <th>EC(㎲/㎝)</th>\n",
       "    </tr>\n",
       "  </thead>\n",
       "  <tbody>\n",
       "    <tr>\n",
       "      <th>0</th>\n",
       "      <td>대전태평</td>\n",
       "      <td>(암반)</td>\n",
       "      <td>20160101</td>\n",
       "      <td>0</td>\n",
       "      <td>16.1</td>\n",
       "      <td>44.42</td>\n",
       "      <td>723</td>\n",
       "    </tr>\n",
       "    <tr>\n",
       "      <th>1</th>\n",
       "      <td>대전태평</td>\n",
       "      <td>(암반)</td>\n",
       "      <td>20160101</td>\n",
       "      <td>1</td>\n",
       "      <td>16.1</td>\n",
       "      <td>44.42</td>\n",
       "      <td>723</td>\n",
       "    </tr>\n",
       "    <tr>\n",
       "      <th>2</th>\n",
       "      <td>대전태평</td>\n",
       "      <td>(암반)</td>\n",
       "      <td>20160101</td>\n",
       "      <td>2</td>\n",
       "      <td>16.1</td>\n",
       "      <td>44.42</td>\n",
       "      <td>723</td>\n",
       "    </tr>\n",
       "    <tr>\n",
       "      <th>3</th>\n",
       "      <td>대전태평</td>\n",
       "      <td>(암반)</td>\n",
       "      <td>20160101</td>\n",
       "      <td>3</td>\n",
       "      <td>16.1</td>\n",
       "      <td>44.42</td>\n",
       "      <td>723</td>\n",
       "    </tr>\n",
       "    <tr>\n",
       "      <th>4</th>\n",
       "      <td>대전태평</td>\n",
       "      <td>(암반)</td>\n",
       "      <td>20160101</td>\n",
       "      <td>4</td>\n",
       "      <td>16.1</td>\n",
       "      <td>44.42</td>\n",
       "      <td>723</td>\n",
       "    </tr>\n",
       "    <tr>\n",
       "      <th>...</th>\n",
       "      <td>...</td>\n",
       "      <td>...</td>\n",
       "      <td>...</td>\n",
       "      <td>...</td>\n",
       "      <td>...</td>\n",
       "      <td>...</td>\n",
       "      <td>...</td>\n",
       "    </tr>\n",
       "    <tr>\n",
       "      <th>8721</th>\n",
       "      <td>대전태평</td>\n",
       "      <td>(암반)</td>\n",
       "      <td>20131231</td>\n",
       "      <td>23</td>\n",
       "      <td>16.3</td>\n",
       "      <td>44.34</td>\n",
       "      <td>743</td>\n",
       "    </tr>\n",
       "    <tr>\n",
       "      <th>8722</th>\n",
       "      <td>대전태평</td>\n",
       "      <td>(암반)</td>\n",
       "      <td>20131231</td>\n",
       "      <td>3</td>\n",
       "      <td>16.3</td>\n",
       "      <td>44.34</td>\n",
       "      <td>743</td>\n",
       "    </tr>\n",
       "    <tr>\n",
       "      <th>8723</th>\n",
       "      <td>대전태평</td>\n",
       "      <td>(암반)</td>\n",
       "      <td>20131231</td>\n",
       "      <td>2</td>\n",
       "      <td>16.3</td>\n",
       "      <td>44.34</td>\n",
       "      <td>743</td>\n",
       "    </tr>\n",
       "    <tr>\n",
       "      <th>8724</th>\n",
       "      <td>대전태평</td>\n",
       "      <td>(암반)</td>\n",
       "      <td>20131231</td>\n",
       "      <td>1</td>\n",
       "      <td>16.3</td>\n",
       "      <td>44.34</td>\n",
       "      <td>743</td>\n",
       "    </tr>\n",
       "    <tr>\n",
       "      <th>8725</th>\n",
       "      <td>대전태평</td>\n",
       "      <td>(암반)</td>\n",
       "      <td>20131231</td>\n",
       "      <td>5</td>\n",
       "      <td>16.3</td>\n",
       "      <td>44.34</td>\n",
       "      <td>743</td>\n",
       "    </tr>\n",
       "  </tbody>\n",
       "</table>\n",
       "<p>69548 rows × 7 columns</p>\n",
       "</div>"
      ],
      "text/plain": [
       "       관측소    구분        날짜  시간  수온(℃)  수위(el.m)  EC(㎲/㎝)\n",
       "0     대전태평  (암반)  20160101   0   16.1     44.42      723\n",
       "1     대전태평  (암반)  20160101   1   16.1     44.42      723\n",
       "2     대전태평  (암반)  20160101   2   16.1     44.42      723\n",
       "3     대전태평  (암반)  20160101   3   16.1     44.42      723\n",
       "4     대전태평  (암반)  20160101   4   16.1     44.42      723\n",
       "...    ...   ...       ...  ..    ...       ...      ...\n",
       "8721  대전태평  (암반)  20131231  23   16.3     44.34      743\n",
       "8722  대전태평  (암반)  20131231   3   16.3     44.34      743\n",
       "8723  대전태평  (암반)  20131231   2   16.3     44.34      743\n",
       "8724  대전태평  (암반)  20131231   1   16.3     44.34      743\n",
       "8725  대전태평  (암반)  20131231   5   16.3     44.34      743\n",
       "\n",
       "[69548 rows x 7 columns]"
      ]
     },
     "execution_count": 42,
     "metadata": {},
     "output_type": "execute_result"
    }
   ],
   "source": [
    "df = pd.DataFrame() # 공백 프레임 만듬\n",
    "for i in file_list_py: # \n",
    "    data = pd.read_excel(path + i) # 한개씩 데이터를 읽음\n",
    "    df = pd.concat([df,data]) # 빈공백에 한개씩 읽은 데이터 concat함 (이어붙힘)\n",
    "df"
   ]
  },
  {
   "cell_type": "code",
   "execution_count": 43,
   "metadata": {},
   "outputs": [
    {
     "data": {
      "text/html": [
       "<div>\n",
       "<style scoped>\n",
       "    .dataframe tbody tr th:only-of-type {\n",
       "        vertical-align: middle;\n",
       "    }\n",
       "\n",
       "    .dataframe tbody tr th {\n",
       "        vertical-align: top;\n",
       "    }\n",
       "\n",
       "    .dataframe thead th {\n",
       "        text-align: right;\n",
       "    }\n",
       "</style>\n",
       "<table border=\"1\" class=\"dataframe\">\n",
       "  <thead>\n",
       "    <tr style=\"text-align: right;\">\n",
       "      <th></th>\n",
       "      <th>관측소</th>\n",
       "      <th>구분</th>\n",
       "      <th>날짜</th>\n",
       "      <th>시간</th>\n",
       "      <th>수온(℃)</th>\n",
       "      <th>수위(el.m)</th>\n",
       "      <th>EC(㎲/㎝)</th>\n",
       "    </tr>\n",
       "  </thead>\n",
       "  <tbody>\n",
       "    <tr>\n",
       "      <th>0</th>\n",
       "      <td>대전태평</td>\n",
       "      <td>(암반)</td>\n",
       "      <td>20160101</td>\n",
       "      <td>0</td>\n",
       "      <td>16.1</td>\n",
       "      <td>44.42</td>\n",
       "      <td>723</td>\n",
       "    </tr>\n",
       "    <tr>\n",
       "      <th>1</th>\n",
       "      <td>대전태평</td>\n",
       "      <td>(암반)</td>\n",
       "      <td>20160101</td>\n",
       "      <td>1</td>\n",
       "      <td>16.1</td>\n",
       "      <td>44.42</td>\n",
       "      <td>723</td>\n",
       "    </tr>\n",
       "    <tr>\n",
       "      <th>2</th>\n",
       "      <td>대전태평</td>\n",
       "      <td>(암반)</td>\n",
       "      <td>20160101</td>\n",
       "      <td>2</td>\n",
       "      <td>16.1</td>\n",
       "      <td>44.42</td>\n",
       "      <td>723</td>\n",
       "    </tr>\n",
       "  </tbody>\n",
       "</table>\n",
       "</div>"
      ],
      "text/plain": [
       "    관측소    구분        날짜  시간  수온(℃)  수위(el.m)  EC(㎲/㎝)\n",
       "0  대전태평  (암반)  20160101   0   16.1     44.42      723\n",
       "1  대전태평  (암반)  20160101   1   16.1     44.42      723\n",
       "2  대전태평  (암반)  20160101   2   16.1     44.42      723"
      ]
     },
     "execution_count": 43,
     "metadata": {},
     "output_type": "execute_result"
    }
   ],
   "source": [
    "df.head(3) # 데이터 앞에 3개만 보여줌"
   ]
  },
  {
   "cell_type": "code",
   "execution_count": 44,
   "metadata": {},
   "outputs": [
    {
     "data": {
      "text/html": [
       "<div>\n",
       "<style scoped>\n",
       "    .dataframe tbody tr th:only-of-type {\n",
       "        vertical-align: middle;\n",
       "    }\n",
       "\n",
       "    .dataframe tbody tr th {\n",
       "        vertical-align: top;\n",
       "    }\n",
       "\n",
       "    .dataframe thead th {\n",
       "        text-align: right;\n",
       "    }\n",
       "</style>\n",
       "<table border=\"1\" class=\"dataframe\">\n",
       "  <thead>\n",
       "    <tr style=\"text-align: right;\">\n",
       "      <th></th>\n",
       "      <th>관측소</th>\n",
       "      <th>구분</th>\n",
       "      <th>날짜</th>\n",
       "      <th>시간</th>\n",
       "      <th>수온(℃)</th>\n",
       "      <th>수위(el.m)</th>\n",
       "      <th>EC(㎲/㎝)</th>\n",
       "    </tr>\n",
       "  </thead>\n",
       "  <tbody>\n",
       "    <tr>\n",
       "      <th>8721</th>\n",
       "      <td>대전태평</td>\n",
       "      <td>(암반)</td>\n",
       "      <td>20131231</td>\n",
       "      <td>23</td>\n",
       "      <td>16.3</td>\n",
       "      <td>44.34</td>\n",
       "      <td>743</td>\n",
       "    </tr>\n",
       "    <tr>\n",
       "      <th>8722</th>\n",
       "      <td>대전태평</td>\n",
       "      <td>(암반)</td>\n",
       "      <td>20131231</td>\n",
       "      <td>3</td>\n",
       "      <td>16.3</td>\n",
       "      <td>44.34</td>\n",
       "      <td>743</td>\n",
       "    </tr>\n",
       "    <tr>\n",
       "      <th>8723</th>\n",
       "      <td>대전태평</td>\n",
       "      <td>(암반)</td>\n",
       "      <td>20131231</td>\n",
       "      <td>2</td>\n",
       "      <td>16.3</td>\n",
       "      <td>44.34</td>\n",
       "      <td>743</td>\n",
       "    </tr>\n",
       "    <tr>\n",
       "      <th>8724</th>\n",
       "      <td>대전태평</td>\n",
       "      <td>(암반)</td>\n",
       "      <td>20131231</td>\n",
       "      <td>1</td>\n",
       "      <td>16.3</td>\n",
       "      <td>44.34</td>\n",
       "      <td>743</td>\n",
       "    </tr>\n",
       "    <tr>\n",
       "      <th>8725</th>\n",
       "      <td>대전태평</td>\n",
       "      <td>(암반)</td>\n",
       "      <td>20131231</td>\n",
       "      <td>5</td>\n",
       "      <td>16.3</td>\n",
       "      <td>44.34</td>\n",
       "      <td>743</td>\n",
       "    </tr>\n",
       "  </tbody>\n",
       "</table>\n",
       "</div>"
      ],
      "text/plain": [
       "       관측소    구분        날짜  시간  수온(℃)  수위(el.m)  EC(㎲/㎝)\n",
       "8721  대전태평  (암반)  20131231  23   16.3     44.34      743\n",
       "8722  대전태평  (암반)  20131231   3   16.3     44.34      743\n",
       "8723  대전태평  (암반)  20131231   2   16.3     44.34      743\n",
       "8724  대전태평  (암반)  20131231   1   16.3     44.34      743\n",
       "8725  대전태평  (암반)  20131231   5   16.3     44.34      743"
      ]
     },
     "execution_count": 44,
     "metadata": {},
     "output_type": "execute_result"
    }
   ],
   "source": [
    "df.tail() # 데이터 뒤에 5개만 보여줌"
   ]
  },
  {
   "cell_type": "code",
   "execution_count": 45,
   "metadata": {},
   "outputs": [
    {
     "name": "stdout",
     "output_type": "stream",
     "text": [
      "<class 'pandas.core.frame.DataFrame'>\n",
      "RangeIndex: 69548 entries, 0 to 69547\n",
      "Data columns (total 7 columns):\n",
      " #   Column    Non-Null Count  Dtype  \n",
      "---  ------    --------------  -----  \n",
      " 0   관측소       69548 non-null  object \n",
      " 1   구분        69548 non-null  object \n",
      " 2   날짜        69548 non-null  int64  \n",
      " 3   시간        69548 non-null  int64  \n",
      " 4   수온(℃)     69548 non-null  float64\n",
      " 5   수위(el.m)  69548 non-null  float64\n",
      " 6   EC(㎲/㎝)   69548 non-null  int64  \n",
      "dtypes: float64(2), int64(3), object(2)\n",
      "memory usage: 3.7+ MB\n"
     ]
    }
   ],
   "source": [
    "df = df.reset_index(drop = True) ;  df # 기존 인덱스를 열로 바꿔라 \n",
    "\n",
    "df.info() # 어떤 값들로 이루어져있는지에 대한 정보"
   ]
  },
  {
   "cell_type": "code",
   "execution_count": 48,
   "metadata": {},
   "outputs": [
    {
     "data": {
      "text/html": [
       "<div>\n",
       "<style scoped>\n",
       "    .dataframe tbody tr th:only-of-type {\n",
       "        vertical-align: middle;\n",
       "    }\n",
       "\n",
       "    .dataframe tbody tr th {\n",
       "        vertical-align: top;\n",
       "    }\n",
       "\n",
       "    .dataframe thead th {\n",
       "        text-align: right;\n",
       "    }\n",
       "</style>\n",
       "<table border=\"1\" class=\"dataframe\">\n",
       "  <thead>\n",
       "    <tr style=\"text-align: right;\">\n",
       "      <th></th>\n",
       "      <th>관측소</th>\n",
       "      <th>구분</th>\n",
       "      <th>날짜</th>\n",
       "      <th>시간</th>\n",
       "      <th>수온(℃)</th>\n",
       "      <th>수위(el.m)</th>\n",
       "      <th>EC(㎲/㎝)</th>\n",
       "      <th>Data</th>\n",
       "    </tr>\n",
       "    <tr>\n",
       "      <th>Data</th>\n",
       "      <th></th>\n",
       "      <th></th>\n",
       "      <th></th>\n",
       "      <th></th>\n",
       "      <th></th>\n",
       "      <th></th>\n",
       "      <th></th>\n",
       "      <th></th>\n",
       "    </tr>\n",
       "  </thead>\n",
       "  <tbody>\n",
       "    <tr>\n",
       "      <th>2016-01-01 00:00:00</th>\n",
       "      <td>대전태평</td>\n",
       "      <td>(암반)</td>\n",
       "      <td>20160101</td>\n",
       "      <td>0</td>\n",
       "      <td>16.1</td>\n",
       "      <td>44.42</td>\n",
       "      <td>723</td>\n",
       "      <td>2016-01-01 00:00:00</td>\n",
       "    </tr>\n",
       "    <tr>\n",
       "      <th>2016-01-01 01:00:00</th>\n",
       "      <td>대전태평</td>\n",
       "      <td>(암반)</td>\n",
       "      <td>20160101</td>\n",
       "      <td>1</td>\n",
       "      <td>16.1</td>\n",
       "      <td>44.42</td>\n",
       "      <td>723</td>\n",
       "      <td>2016-01-01 01:00:00</td>\n",
       "    </tr>\n",
       "    <tr>\n",
       "      <th>2016-01-01 02:00:00</th>\n",
       "      <td>대전태평</td>\n",
       "      <td>(암반)</td>\n",
       "      <td>20160101</td>\n",
       "      <td>2</td>\n",
       "      <td>16.1</td>\n",
       "      <td>44.42</td>\n",
       "      <td>723</td>\n",
       "      <td>2016-01-01 02:00:00</td>\n",
       "    </tr>\n",
       "  </tbody>\n",
       "</table>\n",
       "</div>"
      ],
      "text/plain": [
       "                      관측소    구분        날짜  시간  수온(℃)  수위(el.m)  EC(㎲/㎝)  \\\n",
       "Data                                                                      \n",
       "2016-01-01 00:00:00  대전태평  (암반)  20160101   0   16.1     44.42      723   \n",
       "2016-01-01 01:00:00  대전태평  (암반)  20160101   1   16.1     44.42      723   \n",
       "2016-01-01 02:00:00  대전태평  (암반)  20160101   2   16.1     44.42      723   \n",
       "\n",
       "                                   Data  \n",
       "Data                                     \n",
       "2016-01-01 00:00:00 2016-01-01 00:00:00  \n",
       "2016-01-01 01:00:00 2016-01-01 01:00:00  \n",
       "2016-01-01 02:00:00 2016-01-01 02:00:00  "
      ]
     },
     "execution_count": 48,
     "metadata": {},
     "output_type": "execute_result"
    }
   ],
   "source": [
    "df['Data'] = pd.to_datetime(df['날짜'], format='%Y%m%d') + \\\n",
    "             pd.to_timedelta(df['시간'].astype(int), unit='h')\n",
    "\n",
    "#df.set_index(df['Data'],inplace = True)\n",
    "df.head(3) "
   ]
  },
  {
   "cell_type": "code",
   "execution_count": 67,
   "metadata": {},
   "outputs": [
    {
     "data": {
      "text/html": [
       "<div>\n",
       "<style scoped>\n",
       "    .dataframe tbody tr th:only-of-type {\n",
       "        vertical-align: middle;\n",
       "    }\n",
       "\n",
       "    .dataframe tbody tr th {\n",
       "        vertical-align: top;\n",
       "    }\n",
       "\n",
       "    .dataframe thead th {\n",
       "        text-align: right;\n",
       "    }\n",
       "</style>\n",
       "<table border=\"1\" class=\"dataframe\">\n",
       "  <thead>\n",
       "    <tr style=\"text-align: right;\">\n",
       "      <th></th>\n",
       "      <th>temp</th>\n",
       "      <th>level</th>\n",
       "      <th>EC</th>\n",
       "    </tr>\n",
       "    <tr>\n",
       "      <th>Data</th>\n",
       "      <th></th>\n",
       "      <th></th>\n",
       "      <th></th>\n",
       "    </tr>\n",
       "  </thead>\n",
       "  <tbody>\n",
       "    <tr>\n",
       "      <th>2016-01-01 00:00:00</th>\n",
       "      <td>16.1</td>\n",
       "      <td>44.42</td>\n",
       "      <td>723</td>\n",
       "    </tr>\n",
       "    <tr>\n",
       "      <th>2016-01-01 01:00:00</th>\n",
       "      <td>16.1</td>\n",
       "      <td>44.42</td>\n",
       "      <td>723</td>\n",
       "    </tr>\n",
       "    <tr>\n",
       "      <th>2016-01-01 02:00:00</th>\n",
       "      <td>16.1</td>\n",
       "      <td>44.42</td>\n",
       "      <td>723</td>\n",
       "    </tr>\n",
       "  </tbody>\n",
       "</table>\n",
       "</div>"
      ],
      "text/plain": [
       "                     temp  level   EC\n",
       "Data                                 \n",
       "2016-01-01 00:00:00  16.1  44.42  723\n",
       "2016-01-01 01:00:00  16.1  44.42  723\n",
       "2016-01-01 02:00:00  16.1  44.42  723"
      ]
     },
     "execution_count": 67,
     "metadata": {},
     "output_type": "execute_result"
    }
   ],
   "source": [
    "df1 = df[['수온(℃)','수위(el.m)','EC(㎲/㎝)']]\n",
    "df1.columns = ['temp', 'level', 'EC']\n",
    "df1.head(3)"
   ]
  },
  {
   "cell_type": "code",
   "execution_count": 68,
   "metadata": {},
   "outputs": [
    {
     "data": {
      "text/plain": [
       "temp     0\n",
       "level    0\n",
       "EC       0\n",
       "dtype: int64"
      ]
     },
     "execution_count": 68,
     "metadata": {},
     "output_type": "execute_result"
    }
   ],
   "source": [
    "df1.isnull().sum()"
   ]
  },
  {
   "cell_type": "code",
   "execution_count": 69,
   "metadata": {},
   "outputs": [],
   "source": [
    "df1.to_csv('reference files/csv/대전지하수.csv',encoding='cp949')"
   ]
  },
  {
   "cell_type": "markdown",
   "metadata": {},
   "source": [
    "## 이상치 확인 및 제거"
   ]
  },
  {
   "cell_type": "code",
   "execution_count": 70,
   "metadata": {},
   "outputs": [
    {
     "data": {
      "text/html": [
       "<div>\n",
       "<style scoped>\n",
       "    .dataframe tbody tr th:only-of-type {\n",
       "        vertical-align: middle;\n",
       "    }\n",
       "\n",
       "    .dataframe tbody tr th {\n",
       "        vertical-align: top;\n",
       "    }\n",
       "\n",
       "    .dataframe thead th {\n",
       "        text-align: right;\n",
       "    }\n",
       "</style>\n",
       "<table border=\"1\" class=\"dataframe\">\n",
       "  <thead>\n",
       "    <tr style=\"text-align: right;\">\n",
       "      <th></th>\n",
       "      <th>temp</th>\n",
       "      <th>level</th>\n",
       "      <th>EC</th>\n",
       "    </tr>\n",
       "    <tr>\n",
       "      <th>Data</th>\n",
       "      <th></th>\n",
       "      <th></th>\n",
       "      <th></th>\n",
       "    </tr>\n",
       "  </thead>\n",
       "  <tbody>\n",
       "    <tr>\n",
       "      <th>2016-01-01 00:00:00</th>\n",
       "      <td>16.1</td>\n",
       "      <td>44.42</td>\n",
       "      <td>723</td>\n",
       "    </tr>\n",
       "    <tr>\n",
       "      <th>2016-01-01 01:00:00</th>\n",
       "      <td>16.1</td>\n",
       "      <td>44.42</td>\n",
       "      <td>723</td>\n",
       "    </tr>\n",
       "    <tr>\n",
       "      <th>2016-01-01 02:00:00</th>\n",
       "      <td>16.1</td>\n",
       "      <td>44.42</td>\n",
       "      <td>723</td>\n",
       "    </tr>\n",
       "    <tr>\n",
       "      <th>2016-01-01 03:00:00</th>\n",
       "      <td>16.1</td>\n",
       "      <td>44.42</td>\n",
       "      <td>723</td>\n",
       "    </tr>\n",
       "  </tbody>\n",
       "</table>\n",
       "</div>"
      ],
      "text/plain": [
       "                     temp  level   EC\n",
       "Data                                 \n",
       "2016-01-01 00:00:00  16.1  44.42  723\n",
       "2016-01-01 01:00:00  16.1  44.42  723\n",
       "2016-01-01 02:00:00  16.1  44.42  723\n",
       "2016-01-01 03:00:00  16.1  44.42  723"
      ]
     },
     "execution_count": 70,
     "metadata": {},
     "output_type": "execute_result"
    }
   ],
   "source": [
    "df2 = pd.read_csv('reference files/csv/대전지하수.csv',index_col='Data',parse_dates=True,encoding='cp949')\n",
    "df2.head(4)"
   ]
  },
  {
   "cell_type": "code",
   "execution_count": 71,
   "metadata": {},
   "outputs": [
    {
     "data": {
      "text/html": [
       "<div>\n",
       "<style scoped>\n",
       "    .dataframe tbody tr th:only-of-type {\n",
       "        vertical-align: middle;\n",
       "    }\n",
       "\n",
       "    .dataframe tbody tr th {\n",
       "        vertical-align: top;\n",
       "    }\n",
       "\n",
       "    .dataframe thead th {\n",
       "        text-align: right;\n",
       "    }\n",
       "</style>\n",
       "<table border=\"1\" class=\"dataframe\">\n",
       "  <thead>\n",
       "    <tr style=\"text-align: right;\">\n",
       "      <th></th>\n",
       "      <th>날짜</th>\n",
       "      <th>시간</th>\n",
       "      <th>수온(℃)</th>\n",
       "      <th>수위(el.m)</th>\n",
       "      <th>EC(㎲/㎝)</th>\n",
       "      <th>Data</th>\n",
       "    </tr>\n",
       "  </thead>\n",
       "  <tbody>\n",
       "    <tr>\n",
       "      <th>count</th>\n",
       "      <td>6.954800e+04</td>\n",
       "      <td>69548.000000</td>\n",
       "      <td>69548.000000</td>\n",
       "      <td>69548.000000</td>\n",
       "      <td>69548.000000</td>\n",
       "      <td>69548</td>\n",
       "    </tr>\n",
       "    <tr>\n",
       "      <th>mean</th>\n",
       "      <td>2.012574e+07</td>\n",
       "      <td>11.498476</td>\n",
       "      <td>16.262491</td>\n",
       "      <td>44.295353</td>\n",
       "      <td>727.024027</td>\n",
       "      <td>2013-01-03 10:45:31.005923840</td>\n",
       "    </tr>\n",
       "    <tr>\n",
       "      <th>min</th>\n",
       "      <td>2.009010e+07</td>\n",
       "      <td>0.000000</td>\n",
       "      <td>15.800000</td>\n",
       "      <td>11.530000</td>\n",
       "      <td>13.000000</td>\n",
       "      <td>2009-01-01 00:00:00</td>\n",
       "    </tr>\n",
       "    <tr>\n",
       "      <th>25%</th>\n",
       "      <td>2.011010e+07</td>\n",
       "      <td>5.000000</td>\n",
       "      <td>16.200000</td>\n",
       "      <td>44.370000</td>\n",
       "      <td>722.000000</td>\n",
       "      <td>2011-01-01 13:45:00</td>\n",
       "    </tr>\n",
       "    <tr>\n",
       "      <th>50%</th>\n",
       "      <td>2.013011e+07</td>\n",
       "      <td>11.000000</td>\n",
       "      <td>16.300000</td>\n",
       "      <td>44.460000</td>\n",
       "      <td>730.000000</td>\n",
       "      <td>2013-01-07 06:30:00</td>\n",
       "    </tr>\n",
       "    <tr>\n",
       "      <th>75%</th>\n",
       "      <td>2.015010e+07</td>\n",
       "      <td>18.000000</td>\n",
       "      <td>16.300000</td>\n",
       "      <td>44.550000</td>\n",
       "      <td>742.000000</td>\n",
       "      <td>2015-01-05 20:15:00</td>\n",
       "    </tr>\n",
       "    <tr>\n",
       "      <th>max</th>\n",
       "      <td>2.016123e+07</td>\n",
       "      <td>23.000000</td>\n",
       "      <td>16.500000</td>\n",
       "      <td>45.900000</td>\n",
       "      <td>778.000000</td>\n",
       "      <td>2016-12-31 23:00:00</td>\n",
       "    </tr>\n",
       "    <tr>\n",
       "      <th>std</th>\n",
       "      <td>2.293859e+04</td>\n",
       "      <td>6.925167</td>\n",
       "      <td>0.089778</td>\n",
       "      <td>2.539464</td>\n",
       "      <td>51.544590</td>\n",
       "      <td>NaN</td>\n",
       "    </tr>\n",
       "  </tbody>\n",
       "</table>\n",
       "</div>"
      ],
      "text/plain": [
       "                 날짜            시간         수온(℃)      수위(el.m)       EC(㎲/㎝)  \\\n",
       "count  6.954800e+04  69548.000000  69548.000000  69548.000000  69548.000000   \n",
       "mean   2.012574e+07     11.498476     16.262491     44.295353    727.024027   \n",
       "min    2.009010e+07      0.000000     15.800000     11.530000     13.000000   \n",
       "25%    2.011010e+07      5.000000     16.200000     44.370000    722.000000   \n",
       "50%    2.013011e+07     11.000000     16.300000     44.460000    730.000000   \n",
       "75%    2.015010e+07     18.000000     16.300000     44.550000    742.000000   \n",
       "max    2.016123e+07     23.000000     16.500000     45.900000    778.000000   \n",
       "std    2.293859e+04      6.925167      0.089778      2.539464     51.544590   \n",
       "\n",
       "                                Data  \n",
       "count                          69548  \n",
       "mean   2013-01-03 10:45:31.005923840  \n",
       "min              2009-01-01 00:00:00  \n",
       "25%              2011-01-01 13:45:00  \n",
       "50%              2013-01-07 06:30:00  \n",
       "75%              2015-01-05 20:15:00  \n",
       "max              2016-12-31 23:00:00  \n",
       "std                              NaN  "
      ]
     },
     "execution_count": 71,
     "metadata": {},
     "output_type": "execute_result"
    }
   ],
   "source": [
    "df.describe()"
   ]
  },
  {
   "cell_type": "code",
   "execution_count": 72,
   "metadata": {},
   "outputs": [
    {
     "data": {
      "text/plain": [
       "<function matplotlib.pyplot.show(close=None, block=None)>"
      ]
     },
     "execution_count": 72,
     "metadata": {},
     "output_type": "execute_result"
    },
    {
     "data": {
      "image/png": "[encoded data removed]",
      "text/plain": [
       "<Figure size 1000x600 with 6 Axes>"
      ]
     },
     "metadata": {},
     "output_type": "display_data"
    }
   ],
   "source": [
    "df.hist(bins=50,figsize=(10,6))\n",
    "plt.show"
   ]
  },
  {
   "cell_type": "code",
   "execution_count": 73,
   "metadata": {},
   "outputs": [
    {
     "ename": "KeyError",
     "evalue": "\"None of [Index(['EC'], dtype='object')] are in the [columns]\"",
     "output_type": "error",
     "traceback": [
      "\u001b[0;31m---------------------------------------------------------------------------\u001b[0m",
      "\u001b[0;31mKeyError\u001b[0m                                  Traceback (most recent call last)",
      "Cell \u001b[0;32mIn[73], line 1\u001b[0m\n\u001b[0;32m----> 1\u001b[0m df\u001b[38;5;241m.\u001b[39mboxplot(column\u001b[38;5;241m=\u001b[39m\u001b[38;5;124m'\u001b[39m\u001b[38;5;124mEC\u001b[39m\u001b[38;5;124m'\u001b[39m)\n",
      "File \u001b[0;32m/opt/anaconda3/lib/python3.11/site-packages/pandas/plotting/_core.py:529\u001b[0m, in \u001b[0;36mboxplot_frame\u001b[0;34m(self, column, by, ax, fontsize, rot, grid, figsize, layout, return_type, backend, **kwargs)\u001b[0m\n\u001b[1;32m    512\u001b[0m \u001b[38;5;129m@Substitution\u001b[39m(data\u001b[38;5;241m=\u001b[39m\u001b[38;5;124m\"\u001b[39m\u001b[38;5;124m\"\u001b[39m, backend\u001b[38;5;241m=\u001b[39m_backend_doc)\n\u001b[1;32m    513\u001b[0m \u001b[38;5;129m@Appender\u001b[39m(_boxplot_doc)\n\u001b[1;32m    514\u001b[0m \u001b[38;5;28;01mdef\u001b[39;00m \u001b[38;5;21mboxplot_frame\u001b[39m(\n\u001b[0;32m   (...)\u001b[0m\n\u001b[1;32m    526\u001b[0m     \u001b[38;5;241m*\u001b[39m\u001b[38;5;241m*\u001b[39mkwargs,\n\u001b[1;32m    527\u001b[0m ):\n\u001b[1;32m    528\u001b[0m     plot_backend \u001b[38;5;241m=\u001b[39m _get_plot_backend(backend)\n\u001b[0;32m--> 529\u001b[0m     \u001b[38;5;28;01mreturn\u001b[39;00m plot_backend\u001b[38;5;241m.\u001b[39mboxplot_frame(\n\u001b[1;32m    530\u001b[0m         \u001b[38;5;28mself\u001b[39m,\n\u001b[1;32m    531\u001b[0m         column\u001b[38;5;241m=\u001b[39mcolumn,\n\u001b[1;32m    532\u001b[0m         by\u001b[38;5;241m=\u001b[39mby,\n\u001b[1;32m    533\u001b[0m         ax\u001b[38;5;241m=\u001b[39max,\n\u001b[1;32m    534\u001b[0m         fontsize\u001b[38;5;241m=\u001b[39mfontsize,\n\u001b[1;32m    535\u001b[0m         rot\u001b[38;5;241m=\u001b[39mrot,\n\u001b[1;32m    536\u001b[0m         grid\u001b[38;5;241m=\u001b[39mgrid,\n\u001b[1;32m    537\u001b[0m         figsize\u001b[38;5;241m=\u001b[39mfigsize,\n\u001b[1;32m    538\u001b[0m         layout\u001b[38;5;241m=\u001b[39mlayout,\n\u001b[1;32m    539\u001b[0m         return_type\u001b[38;5;241m=\u001b[39mreturn_type,\n\u001b[1;32m    540\u001b[0m         \u001b[38;5;241m*\u001b[39m\u001b[38;5;241m*\u001b[39mkwargs,\n\u001b[1;32m    541\u001b[0m     )\n",
      "File \u001b[0;32m/opt/anaconda3/lib/python3.11/site-packages/pandas/plotting/_matplotlib/boxplot.py:470\u001b[0m, in \u001b[0;36mboxplot_frame\u001b[0;34m(self, column, by, ax, fontsize, rot, grid, figsize, layout, return_type, **kwds)\u001b[0m\n\u001b[1;32m    455\u001b[0m \u001b[38;5;28;01mdef\u001b[39;00m \u001b[38;5;21mboxplot_frame\u001b[39m(\n\u001b[1;32m    456\u001b[0m     \u001b[38;5;28mself\u001b[39m,\n\u001b[1;32m    457\u001b[0m     column\u001b[38;5;241m=\u001b[39m\u001b[38;5;28;01mNone\u001b[39;00m,\n\u001b[0;32m   (...)\u001b[0m\n\u001b[1;32m    466\u001b[0m     \u001b[38;5;241m*\u001b[39m\u001b[38;5;241m*\u001b[39mkwds,\n\u001b[1;32m    467\u001b[0m ):\n\u001b[1;32m    468\u001b[0m     \u001b[38;5;28;01mimport\u001b[39;00m \u001b[38;5;21;01mmatplotlib\u001b[39;00m\u001b[38;5;21;01m.\u001b[39;00m\u001b[38;5;21;01mpyplot\u001b[39;00m \u001b[38;5;28;01mas\u001b[39;00m \u001b[38;5;21;01mplt\u001b[39;00m\n\u001b[0;32m--> 470\u001b[0m     ax \u001b[38;5;241m=\u001b[39m boxplot(\n\u001b[1;32m    471\u001b[0m         \u001b[38;5;28mself\u001b[39m,\n\u001b[1;32m    472\u001b[0m         column\u001b[38;5;241m=\u001b[39mcolumn,\n\u001b[1;32m    473\u001b[0m         by\u001b[38;5;241m=\u001b[39mby,\n\u001b[1;32m    474\u001b[0m         ax\u001b[38;5;241m=\u001b[39max,\n\u001b[1;32m    475\u001b[0m         fontsize\u001b[38;5;241m=\u001b[39mfontsize,\n\u001b[1;32m    476\u001b[0m         grid\u001b[38;5;241m=\u001b[39mgrid,\n\u001b[1;32m    477\u001b[0m         rot\u001b[38;5;241m=\u001b[39mrot,\n\u001b[1;32m    478\u001b[0m         figsize\u001b[38;5;241m=\u001b[39mfigsize,\n\u001b[1;32m    479\u001b[0m         layout\u001b[38;5;241m=\u001b[39mlayout,\n\u001b[1;32m    480\u001b[0m         return_type\u001b[38;5;241m=\u001b[39mreturn_type,\n\u001b[1;32m    481\u001b[0m         \u001b[38;5;241m*\u001b[39m\u001b[38;5;241m*\u001b[39mkwds,\n\u001b[1;32m    482\u001b[0m     )\n\u001b[1;32m    483\u001b[0m     plt\u001b[38;5;241m.\u001b[39mdraw_if_interactive()\n\u001b[1;32m    484\u001b[0m     \u001b[38;5;28;01mreturn\u001b[39;00m ax\n",
      "File \u001b[0;32m/opt/anaconda3/lib/python3.11/site-packages/pandas/plotting/_matplotlib/boxplot.py:447\u001b[0m, in \u001b[0;36mboxplot\u001b[0;34m(data, column, by, ax, fontsize, rot, grid, figsize, layout, return_type, **kwds)\u001b[0m\n\u001b[1;32m    445\u001b[0m     columns \u001b[38;5;241m=\u001b[39m data\u001b[38;5;241m.\u001b[39mcolumns\n\u001b[1;32m    446\u001b[0m \u001b[38;5;28;01melse\u001b[39;00m:\n\u001b[0;32m--> 447\u001b[0m     data \u001b[38;5;241m=\u001b[39m data[columns]\n\u001b[1;32m    449\u001b[0m result \u001b[38;5;241m=\u001b[39m plot_group(columns, data\u001b[38;5;241m.\u001b[39mvalues\u001b[38;5;241m.\u001b[39mT, ax, \u001b[38;5;241m*\u001b[39m\u001b[38;5;241m*\u001b[39mkwds)\n\u001b[1;32m    450\u001b[0m ax\u001b[38;5;241m.\u001b[39mgrid(grid)\n",
      "File \u001b[0;32m/opt/anaconda3/lib/python3.11/site-packages/pandas/core/frame.py:3899\u001b[0m, in \u001b[0;36mDataFrame.__getitem__\u001b[0;34m(self, key)\u001b[0m\n\u001b[1;32m   3897\u001b[0m     \u001b[38;5;28;01mif\u001b[39;00m is_iterator(key):\n\u001b[1;32m   3898\u001b[0m         key \u001b[38;5;241m=\u001b[39m \u001b[38;5;28mlist\u001b[39m(key)\n\u001b[0;32m-> 3899\u001b[0m     indexer \u001b[38;5;241m=\u001b[39m \u001b[38;5;28mself\u001b[39m\u001b[38;5;241m.\u001b[39mcolumns\u001b[38;5;241m.\u001b[39m_get_indexer_strict(key, \u001b[38;5;124m\"\u001b[39m\u001b[38;5;124mcolumns\u001b[39m\u001b[38;5;124m\"\u001b[39m)[\u001b[38;5;241m1\u001b[39m]\n\u001b[1;32m   3901\u001b[0m \u001b[38;5;66;03m# take() does not accept boolean indexers\u001b[39;00m\n\u001b[1;32m   3902\u001b[0m \u001b[38;5;28;01mif\u001b[39;00m \u001b[38;5;28mgetattr\u001b[39m(indexer, \u001b[38;5;124m\"\u001b[39m\u001b[38;5;124mdtype\u001b[39m\u001b[38;5;124m\"\u001b[39m, \u001b[38;5;28;01mNone\u001b[39;00m) \u001b[38;5;241m==\u001b[39m \u001b[38;5;28mbool\u001b[39m:\n",
      "File \u001b[0;32m/opt/anaconda3/lib/python3.11/site-packages/pandas/core/indexes/base.py:6115\u001b[0m, in \u001b[0;36mIndex._get_indexer_strict\u001b[0;34m(self, key, axis_name)\u001b[0m\n\u001b[1;32m   6112\u001b[0m \u001b[38;5;28;01melse\u001b[39;00m:\n\u001b[1;32m   6113\u001b[0m     keyarr, indexer, new_indexer \u001b[38;5;241m=\u001b[39m \u001b[38;5;28mself\u001b[39m\u001b[38;5;241m.\u001b[39m_reindex_non_unique(keyarr)\n\u001b[0;32m-> 6115\u001b[0m \u001b[38;5;28mself\u001b[39m\u001b[38;5;241m.\u001b[39m_raise_if_missing(keyarr, indexer, axis_name)\n\u001b[1;32m   6117\u001b[0m keyarr \u001b[38;5;241m=\u001b[39m \u001b[38;5;28mself\u001b[39m\u001b[38;5;241m.\u001b[39mtake(indexer)\n\u001b[1;32m   6118\u001b[0m \u001b[38;5;28;01mif\u001b[39;00m \u001b[38;5;28misinstance\u001b[39m(key, Index):\n\u001b[1;32m   6119\u001b[0m     \u001b[38;5;66;03m# GH 42790 - Preserve name from an Index\u001b[39;00m\n",
      "File \u001b[0;32m/opt/anaconda3/lib/python3.11/site-packages/pandas/core/indexes/base.py:6176\u001b[0m, in \u001b[0;36mIndex._raise_if_missing\u001b[0;34m(self, key, indexer, axis_name)\u001b[0m\n\u001b[1;32m   6174\u001b[0m     \u001b[38;5;28;01mif\u001b[39;00m use_interval_msg:\n\u001b[1;32m   6175\u001b[0m         key \u001b[38;5;241m=\u001b[39m \u001b[38;5;28mlist\u001b[39m(key)\n\u001b[0;32m-> 6176\u001b[0m     \u001b[38;5;28;01mraise\u001b[39;00m \u001b[38;5;167;01mKeyError\u001b[39;00m(\u001b[38;5;124mf\u001b[39m\u001b[38;5;124m\"\u001b[39m\u001b[38;5;124mNone of [\u001b[39m\u001b[38;5;132;01m{\u001b[39;00mkey\u001b[38;5;132;01m}\u001b[39;00m\u001b[38;5;124m] are in the [\u001b[39m\u001b[38;5;132;01m{\u001b[39;00maxis_name\u001b[38;5;132;01m}\u001b[39;00m\u001b[38;5;124m]\u001b[39m\u001b[38;5;124m\"\u001b[39m)\n\u001b[1;32m   6178\u001b[0m not_found \u001b[38;5;241m=\u001b[39m \u001b[38;5;28mlist\u001b[39m(ensure_index(key)[missing_mask\u001b[38;5;241m.\u001b[39mnonzero()[\u001b[38;5;241m0\u001b[39m]]\u001b[38;5;241m.\u001b[39munique())\n\u001b[1;32m   6179\u001b[0m \u001b[38;5;28;01mraise\u001b[39;00m \u001b[38;5;167;01mKeyError\u001b[39;00m(\u001b[38;5;124mf\u001b[39m\u001b[38;5;124m\"\u001b[39m\u001b[38;5;132;01m{\u001b[39;00mnot_found\u001b[38;5;132;01m}\u001b[39;00m\u001b[38;5;124m not in index\u001b[39m\u001b[38;5;124m\"\u001b[39m)\n",
      "\u001b[0;31mKeyError\u001b[0m: \"None of [Index(['EC'], dtype='object')] are in the [columns]\""
     ]
    },
    {
     "data": {
      "image/png": "[encoded data removed]",
      "text/plain": [
       "<Figure size 640x480 with 1 Axes>"
      ]
     },
     "metadata": {},
     "output_type": "display_data"
    }
   ],
   "source": [
    "df.boxplot(column='EC')"
   ]
  },
  {
   "cell_type": "code",
   "execution_count": 74,
   "metadata": {},
   "outputs": [
    {
     "ename": "KeyError",
     "evalue": "\"None of [Index(['temp'], dtype='object')] are in the [columns]\"",
     "output_type": "error",
     "traceback": [
      "\u001b[0;31m---------------------------------------------------------------------------\u001b[0m",
      "\u001b[0;31mKeyError\u001b[0m                                  Traceback (most recent call last)",
      "Cell \u001b[0;32mIn[74], line 1\u001b[0m\n\u001b[0;32m----> 1\u001b[0m plt\u001b[38;5;241m.\u001b[39msubplot(\u001b[38;5;241m1\u001b[39m,\u001b[38;5;241m3\u001b[39m,\u001b[38;5;241m1\u001b[39m);df\u001b[38;5;241m.\u001b[39mboxplot(column\u001b[38;5;241m=\u001b[39m\u001b[38;5;124m'\u001b[39m\u001b[38;5;124mtemp\u001b[39m\u001b[38;5;124m'\u001b[39m,return_type\u001b[38;5;241m=\u001b[39m\u001b[38;5;124m'\u001b[39m\u001b[38;5;124mboth\u001b[39m\u001b[38;5;124m'\u001b[39m)\n\u001b[1;32m      2\u001b[0m plt\u001b[38;5;241m.\u001b[39msubplot(\u001b[38;5;241m1\u001b[39m,\u001b[38;5;241m3\u001b[39m,\u001b[38;5;241m2\u001b[39m);df\u001b[38;5;241m.\u001b[39mboxplot(column\u001b[38;5;241m=\u001b[39m\u001b[38;5;124m'\u001b[39m\u001b[38;5;124mlevel\u001b[39m\u001b[38;5;124m'\u001b[39m,return_type\u001b[38;5;241m=\u001b[39m\u001b[38;5;124m'\u001b[39m\u001b[38;5;124mboth\u001b[39m\u001b[38;5;124m'\u001b[39m)\n\u001b[1;32m      3\u001b[0m plt\u001b[38;5;241m.\u001b[39msubplot(\u001b[38;5;241m1\u001b[39m,\u001b[38;5;241m3\u001b[39m,\u001b[38;5;241m3\u001b[39m);df\u001b[38;5;241m.\u001b[39mboxplot(column\u001b[38;5;241m=\u001b[39m\u001b[38;5;124m'\u001b[39m\u001b[38;5;124mEC\u001b[39m\u001b[38;5;124m'\u001b[39m,return_type\u001b[38;5;241m=\u001b[39m\u001b[38;5;124m'\u001b[39m\u001b[38;5;124mboth\u001b[39m\u001b[38;5;124m'\u001b[39m)\n",
      "File \u001b[0;32m/opt/anaconda3/lib/python3.11/site-packages/pandas/plotting/_core.py:529\u001b[0m, in \u001b[0;36mboxplot_frame\u001b[0;34m(self, column, by, ax, fontsize, rot, grid, figsize, layout, return_type, backend, **kwargs)\u001b[0m\n\u001b[1;32m    512\u001b[0m \u001b[38;5;129m@Substitution\u001b[39m(data\u001b[38;5;241m=\u001b[39m\u001b[38;5;124m\"\u001b[39m\u001b[38;5;124m\"\u001b[39m, backend\u001b[38;5;241m=\u001b[39m_backend_doc)\n\u001b[1;32m    513\u001b[0m \u001b[38;5;129m@Appender\u001b[39m(_boxplot_doc)\n\u001b[1;32m    514\u001b[0m \u001b[38;5;28;01mdef\u001b[39;00m \u001b[38;5;21mboxplot_frame\u001b[39m(\n\u001b[0;32m   (...)\u001b[0m\n\u001b[1;32m    526\u001b[0m     \u001b[38;5;241m*\u001b[39m\u001b[38;5;241m*\u001b[39mkwargs,\n\u001b[1;32m    527\u001b[0m ):\n\u001b[1;32m    528\u001b[0m     plot_backend \u001b[38;5;241m=\u001b[39m _get_plot_backend(backend)\n\u001b[0;32m--> 529\u001b[0m     \u001b[38;5;28;01mreturn\u001b[39;00m plot_backend\u001b[38;5;241m.\u001b[39mboxplot_frame(\n\u001b[1;32m    530\u001b[0m         \u001b[38;5;28mself\u001b[39m,\n\u001b[1;32m    531\u001b[0m         column\u001b[38;5;241m=\u001b[39mcolumn,\n\u001b[1;32m    532\u001b[0m         by\u001b[38;5;241m=\u001b[39mby,\n\u001b[1;32m    533\u001b[0m         ax\u001b[38;5;241m=\u001b[39max,\n\u001b[1;32m    534\u001b[0m         fontsize\u001b[38;5;241m=\u001b[39mfontsize,\n\u001b[1;32m    535\u001b[0m         rot\u001b[38;5;241m=\u001b[39mrot,\n\u001b[1;32m    536\u001b[0m         grid\u001b[38;5;241m=\u001b[39mgrid,\n\u001b[1;32m    537\u001b[0m         figsize\u001b[38;5;241m=\u001b[39mfigsize,\n\u001b[1;32m    538\u001b[0m         layout\u001b[38;5;241m=\u001b[39mlayout,\n\u001b[1;32m    539\u001b[0m         return_type\u001b[38;5;241m=\u001b[39mreturn_type,\n\u001b[1;32m    540\u001b[0m         \u001b[38;5;241m*\u001b[39m\u001b[38;5;241m*\u001b[39mkwargs,\n\u001b[1;32m    541\u001b[0m     )\n",
      "File \u001b[0;32m/opt/anaconda3/lib/python3.11/site-packages/pandas/plotting/_matplotlib/boxplot.py:470\u001b[0m, in \u001b[0;36mboxplot_frame\u001b[0;34m(self, column, by, ax, fontsize, rot, grid, figsize, layout, return_type, **kwds)\u001b[0m\n\u001b[1;32m    455\u001b[0m \u001b[38;5;28;01mdef\u001b[39;00m \u001b[38;5;21mboxplot_frame\u001b[39m(\n\u001b[1;32m    456\u001b[0m     \u001b[38;5;28mself\u001b[39m,\n\u001b[1;32m    457\u001b[0m     column\u001b[38;5;241m=\u001b[39m\u001b[38;5;28;01mNone\u001b[39;00m,\n\u001b[0;32m   (...)\u001b[0m\n\u001b[1;32m    466\u001b[0m     \u001b[38;5;241m*\u001b[39m\u001b[38;5;241m*\u001b[39mkwds,\n\u001b[1;32m    467\u001b[0m ):\n\u001b[1;32m    468\u001b[0m     \u001b[38;5;28;01mimport\u001b[39;00m \u001b[38;5;21;01mmatplotlib\u001b[39;00m\u001b[38;5;21;01m.\u001b[39;00m\u001b[38;5;21;01mpyplot\u001b[39;00m \u001b[38;5;28;01mas\u001b[39;00m \u001b[38;5;21;01mplt\u001b[39;00m\n\u001b[0;32m--> 470\u001b[0m     ax \u001b[38;5;241m=\u001b[39m boxplot(\n\u001b[1;32m    471\u001b[0m         \u001b[38;5;28mself\u001b[39m,\n\u001b[1;32m    472\u001b[0m         column\u001b[38;5;241m=\u001b[39mcolumn,\n\u001b[1;32m    473\u001b[0m         by\u001b[38;5;241m=\u001b[39mby,\n\u001b[1;32m    474\u001b[0m         ax\u001b[38;5;241m=\u001b[39max,\n\u001b[1;32m    475\u001b[0m         fontsize\u001b[38;5;241m=\u001b[39mfontsize,\n\u001b[1;32m    476\u001b[0m         grid\u001b[38;5;241m=\u001b[39mgrid,\n\u001b[1;32m    477\u001b[0m         rot\u001b[38;5;241m=\u001b[39mrot,\n\u001b[1;32m    478\u001b[0m         figsize\u001b[38;5;241m=\u001b[39mfigsize,\n\u001b[1;32m    479\u001b[0m         layout\u001b[38;5;241m=\u001b[39mlayout,\n\u001b[1;32m    480\u001b[0m         return_type\u001b[38;5;241m=\u001b[39mreturn_type,\n\u001b[1;32m    481\u001b[0m         \u001b[38;5;241m*\u001b[39m\u001b[38;5;241m*\u001b[39mkwds,\n\u001b[1;32m    482\u001b[0m     )\n\u001b[1;32m    483\u001b[0m     plt\u001b[38;5;241m.\u001b[39mdraw_if_interactive()\n\u001b[1;32m    484\u001b[0m     \u001b[38;5;28;01mreturn\u001b[39;00m ax\n",
      "File \u001b[0;32m/opt/anaconda3/lib/python3.11/site-packages/pandas/plotting/_matplotlib/boxplot.py:447\u001b[0m, in \u001b[0;36mboxplot\u001b[0;34m(data, column, by, ax, fontsize, rot, grid, figsize, layout, return_type, **kwds)\u001b[0m\n\u001b[1;32m    445\u001b[0m     columns \u001b[38;5;241m=\u001b[39m data\u001b[38;5;241m.\u001b[39mcolumns\n\u001b[1;32m    446\u001b[0m \u001b[38;5;28;01melse\u001b[39;00m:\n\u001b[0;32m--> 447\u001b[0m     data \u001b[38;5;241m=\u001b[39m data[columns]\n\u001b[1;32m    449\u001b[0m result \u001b[38;5;241m=\u001b[39m plot_group(columns, data\u001b[38;5;241m.\u001b[39mvalues\u001b[38;5;241m.\u001b[39mT, ax, \u001b[38;5;241m*\u001b[39m\u001b[38;5;241m*\u001b[39mkwds)\n\u001b[1;32m    450\u001b[0m ax\u001b[38;5;241m.\u001b[39mgrid(grid)\n",
      "File \u001b[0;32m/opt/anaconda3/lib/python3.11/site-packages/pandas/core/frame.py:3899\u001b[0m, in \u001b[0;36mDataFrame.__getitem__\u001b[0;34m(self, key)\u001b[0m\n\u001b[1;32m   3897\u001b[0m     \u001b[38;5;28;01mif\u001b[39;00m is_iterator(key):\n\u001b[1;32m   3898\u001b[0m         key \u001b[38;5;241m=\u001b[39m \u001b[38;5;28mlist\u001b[39m(key)\n\u001b[0;32m-> 3899\u001b[0m     indexer \u001b[38;5;241m=\u001b[39m \u001b[38;5;28mself\u001b[39m\u001b[38;5;241m.\u001b[39mcolumns\u001b[38;5;241m.\u001b[39m_get_indexer_strict(key, \u001b[38;5;124m\"\u001b[39m\u001b[38;5;124mcolumns\u001b[39m\u001b[38;5;124m\"\u001b[39m)[\u001b[38;5;241m1\u001b[39m]\n\u001b[1;32m   3901\u001b[0m \u001b[38;5;66;03m# take() does not accept boolean indexers\u001b[39;00m\n\u001b[1;32m   3902\u001b[0m \u001b[38;5;28;01mif\u001b[39;00m \u001b[38;5;28mgetattr\u001b[39m(indexer, \u001b[38;5;124m\"\u001b[39m\u001b[38;5;124mdtype\u001b[39m\u001b[38;5;124m\"\u001b[39m, \u001b[38;5;28;01mNone\u001b[39;00m) \u001b[38;5;241m==\u001b[39m \u001b[38;5;28mbool\u001b[39m:\n",
      "File \u001b[0;32m/opt/anaconda3/lib/python3.11/site-packages/pandas/core/indexes/base.py:6115\u001b[0m, in \u001b[0;36mIndex._get_indexer_strict\u001b[0;34m(self, key, axis_name)\u001b[0m\n\u001b[1;32m   6112\u001b[0m \u001b[38;5;28;01melse\u001b[39;00m:\n\u001b[1;32m   6113\u001b[0m     keyarr, indexer, new_indexer \u001b[38;5;241m=\u001b[39m \u001b[38;5;28mself\u001b[39m\u001b[38;5;241m.\u001b[39m_reindex_non_unique(keyarr)\n\u001b[0;32m-> 6115\u001b[0m \u001b[38;5;28mself\u001b[39m\u001b[38;5;241m.\u001b[39m_raise_if_missing(keyarr, indexer, axis_name)\n\u001b[1;32m   6117\u001b[0m keyarr \u001b[38;5;241m=\u001b[39m \u001b[38;5;28mself\u001b[39m\u001b[38;5;241m.\u001b[39mtake(indexer)\n\u001b[1;32m   6118\u001b[0m \u001b[38;5;28;01mif\u001b[39;00m \u001b[38;5;28misinstance\u001b[39m(key, Index):\n\u001b[1;32m   6119\u001b[0m     \u001b[38;5;66;03m# GH 42790 - Preserve name from an Index\u001b[39;00m\n",
      "File \u001b[0;32m/opt/anaconda3/lib/python3.11/site-packages/pandas/core/indexes/base.py:6176\u001b[0m, in \u001b[0;36mIndex._raise_if_missing\u001b[0;34m(self, key, indexer, axis_name)\u001b[0m\n\u001b[1;32m   6174\u001b[0m     \u001b[38;5;28;01mif\u001b[39;00m use_interval_msg:\n\u001b[1;32m   6175\u001b[0m         key \u001b[38;5;241m=\u001b[39m \u001b[38;5;28mlist\u001b[39m(key)\n\u001b[0;32m-> 6176\u001b[0m     \u001b[38;5;28;01mraise\u001b[39;00m \u001b[38;5;167;01mKeyError\u001b[39;00m(\u001b[38;5;124mf\u001b[39m\u001b[38;5;124m\"\u001b[39m\u001b[38;5;124mNone of [\u001b[39m\u001b[38;5;132;01m{\u001b[39;00mkey\u001b[38;5;132;01m}\u001b[39;00m\u001b[38;5;124m] are in the [\u001b[39m\u001b[38;5;132;01m{\u001b[39;00maxis_name\u001b[38;5;132;01m}\u001b[39;00m\u001b[38;5;124m]\u001b[39m\u001b[38;5;124m\"\u001b[39m)\n\u001b[1;32m   6178\u001b[0m not_found \u001b[38;5;241m=\u001b[39m \u001b[38;5;28mlist\u001b[39m(ensure_index(key)[missing_mask\u001b[38;5;241m.\u001b[39mnonzero()[\u001b[38;5;241m0\u001b[39m]]\u001b[38;5;241m.\u001b[39munique())\n\u001b[1;32m   6179\u001b[0m \u001b[38;5;28;01mraise\u001b[39;00m \u001b[38;5;167;01mKeyError\u001b[39;00m(\u001b[38;5;124mf\u001b[39m\u001b[38;5;124m\"\u001b[39m\u001b[38;5;132;01m{\u001b[39;00mnot_found\u001b[38;5;132;01m}\u001b[39;00m\u001b[38;5;124m not in index\u001b[39m\u001b[38;5;124m\"\u001b[39m)\n",
      "\u001b[0;31mKeyError\u001b[0m: \"None of [Index(['temp'], dtype='object')] are in the [columns]\""
     ]
    },
    {
     "data": {
      "image/png": "[encoded data removed]",
      "text/plain": [
       "<Figure size 640x480 with 1 Axes>"
      ]
     },
     "metadata": {},
     "output_type": "display_data"
    }
   ],
   "source": [
    "plt.subplot(1,3,1);df.boxplot(column='temp',return_type='both')\n",
    "plt.subplot(1,3,2);df.boxplot(column='level',return_type='both')\n",
    "plt.subplot(1,3,3);df.boxplot(column='EC',return_type='both')\n",
    "plt.show()"
   ]
  },
  {
   "cell_type": "code",
   "execution_count": 78,
   "metadata": {},
   "outputs": [
    {
     "ename": "KeyError",
     "evalue": "'level'",
     "output_type": "error",
     "traceback": [
      "\u001b[0;31m---------------------------------------------------------------------------\u001b[0m",
      "\u001b[0;31mKeyError\u001b[0m                                  Traceback (most recent call last)",
      "File \u001b[0;32m/opt/anaconda3/lib/python3.11/site-packages/pandas/core/indexes/base.py:3791\u001b[0m, in \u001b[0;36mIndex.get_loc\u001b[0;34m(self, key)\u001b[0m\n\u001b[1;32m   3790\u001b[0m \u001b[38;5;28;01mtry\u001b[39;00m:\n\u001b[0;32m-> 3791\u001b[0m     \u001b[38;5;28;01mreturn\u001b[39;00m \u001b[38;5;28mself\u001b[39m\u001b[38;5;241m.\u001b[39m_engine\u001b[38;5;241m.\u001b[39mget_loc(casted_key)\n\u001b[1;32m   3792\u001b[0m \u001b[38;5;28;01mexcept\u001b[39;00m \u001b[38;5;167;01mKeyError\u001b[39;00m \u001b[38;5;28;01mas\u001b[39;00m err:\n",
      "File \u001b[0;32mindex.pyx:152\u001b[0m, in \u001b[0;36mpandas._libs.index.IndexEngine.get_loc\u001b[0;34m()\u001b[0m\n",
      "File \u001b[0;32mindex.pyx:181\u001b[0m, in \u001b[0;36mpandas._libs.index.IndexEngine.get_loc\u001b[0;34m()\u001b[0m\n",
      "File \u001b[0;32mpandas/_libs/hashtable_class_helper.pxi:7080\u001b[0m, in \u001b[0;36mpandas._libs.hashtable.PyObjectHashTable.get_item\u001b[0;34m()\u001b[0m\n",
      "File \u001b[0;32mpandas/_libs/hashtable_class_helper.pxi:7088\u001b[0m, in \u001b[0;36mpandas._libs.hashtable.PyObjectHashTable.get_item\u001b[0;34m()\u001b[0m\n",
      "\u001b[0;31mKeyError\u001b[0m: 'level'",
      "\nThe above exception was the direct cause of the following exception:\n",
      "\u001b[0;31mKeyError\u001b[0m                                  Traceback (most recent call last)",
      "Cell \u001b[0;32mIn[78], line 1\u001b[0m\n\u001b[0;32m----> 1\u001b[0m q3_level \u001b[38;5;241m=\u001b[39mdf[\u001b[38;5;124m'\u001b[39m\u001b[38;5;124mlevel\u001b[39m\u001b[38;5;124m'\u001b[39m]\u001b[38;5;241m.\u001b[39mquantile(q\u001b[38;5;241m=\u001b[39m\u001b[38;5;241m0.75\u001b[39m)\n\u001b[1;32m      2\u001b[0m \u001b[38;5;28mprint\u001b[39m(q3_level)\n\u001b[1;32m      4\u001b[0m q1_level \u001b[38;5;241m=\u001b[39mdf[\u001b[38;5;124m'\u001b[39m\u001b[38;5;124mlevel\u001b[39m\u001b[38;5;124m'\u001b[39m]\u001b[38;5;241m.\u001b[39mquantile(q\u001b[38;5;241m=\u001b[39m\u001b[38;5;241m0.25\u001b[39m)\n",
      "File \u001b[0;32m/opt/anaconda3/lib/python3.11/site-packages/pandas/core/frame.py:3893\u001b[0m, in \u001b[0;36mDataFrame.__getitem__\u001b[0;34m(self, key)\u001b[0m\n\u001b[1;32m   3891\u001b[0m \u001b[38;5;28;01mif\u001b[39;00m \u001b[38;5;28mself\u001b[39m\u001b[38;5;241m.\u001b[39mcolumns\u001b[38;5;241m.\u001b[39mnlevels \u001b[38;5;241m>\u001b[39m \u001b[38;5;241m1\u001b[39m:\n\u001b[1;32m   3892\u001b[0m     \u001b[38;5;28;01mreturn\u001b[39;00m \u001b[38;5;28mself\u001b[39m\u001b[38;5;241m.\u001b[39m_getitem_multilevel(key)\n\u001b[0;32m-> 3893\u001b[0m indexer \u001b[38;5;241m=\u001b[39m \u001b[38;5;28mself\u001b[39m\u001b[38;5;241m.\u001b[39mcolumns\u001b[38;5;241m.\u001b[39mget_loc(key)\n\u001b[1;32m   3894\u001b[0m \u001b[38;5;28;01mif\u001b[39;00m is_integer(indexer):\n\u001b[1;32m   3895\u001b[0m     indexer \u001b[38;5;241m=\u001b[39m [indexer]\n",
      "File \u001b[0;32m/opt/anaconda3/lib/python3.11/site-packages/pandas/core/indexes/base.py:3798\u001b[0m, in \u001b[0;36mIndex.get_loc\u001b[0;34m(self, key)\u001b[0m\n\u001b[1;32m   3793\u001b[0m     \u001b[38;5;28;01mif\u001b[39;00m \u001b[38;5;28misinstance\u001b[39m(casted_key, \u001b[38;5;28mslice\u001b[39m) \u001b[38;5;129;01mor\u001b[39;00m (\n\u001b[1;32m   3794\u001b[0m         \u001b[38;5;28misinstance\u001b[39m(casted_key, abc\u001b[38;5;241m.\u001b[39mIterable)\n\u001b[1;32m   3795\u001b[0m         \u001b[38;5;129;01mand\u001b[39;00m \u001b[38;5;28many\u001b[39m(\u001b[38;5;28misinstance\u001b[39m(x, \u001b[38;5;28mslice\u001b[39m) \u001b[38;5;28;01mfor\u001b[39;00m x \u001b[38;5;129;01min\u001b[39;00m casted_key)\n\u001b[1;32m   3796\u001b[0m     ):\n\u001b[1;32m   3797\u001b[0m         \u001b[38;5;28;01mraise\u001b[39;00m InvalidIndexError(key)\n\u001b[0;32m-> 3798\u001b[0m     \u001b[38;5;28;01mraise\u001b[39;00m \u001b[38;5;167;01mKeyError\u001b[39;00m(key) \u001b[38;5;28;01mfrom\u001b[39;00m \u001b[38;5;21;01merr\u001b[39;00m\n\u001b[1;32m   3799\u001b[0m \u001b[38;5;28;01mexcept\u001b[39;00m \u001b[38;5;167;01mTypeError\u001b[39;00m:\n\u001b[1;32m   3800\u001b[0m     \u001b[38;5;66;03m# If we have a listlike key, _check_indexing_error will raise\u001b[39;00m\n\u001b[1;32m   3801\u001b[0m     \u001b[38;5;66;03m#  InvalidIndexError. Otherwise we fall through and re-raise\u001b[39;00m\n\u001b[1;32m   3802\u001b[0m     \u001b[38;5;66;03m#  the TypeError.\u001b[39;00m\n\u001b[1;32m   3803\u001b[0m     \u001b[38;5;28mself\u001b[39m\u001b[38;5;241m.\u001b[39m_check_indexing_error(key)\n",
      "\u001b[0;31mKeyError\u001b[0m: 'level'"
     ]
    }
   ],
   "source": [
    "q3_level =df['level'].quantile(q=0.75)\n",
    "print(q3_level)\n",
    "\n",
    "q1_level =df['level'].quantile(q=0.25)\n",
    "print(q1_level)\n",
    "\n",
    "iqr_level = q3_level  - q1_level\n",
    "print(iqr_level)"
   ]
  },
  {
   "cell_type": "code",
   "execution_count": 79,
   "metadata": {},
   "outputs": [
    {
     "ename": "NameError",
     "evalue": "name 'q3_level' is not defined",
     "output_type": "error",
     "traceback": [
      "\u001b[0;31m---------------------------------------------------------------------------\u001b[0m",
      "\u001b[0;31mNameError\u001b[0m                                 Traceback (most recent call last)",
      "Cell \u001b[0;32mIn[79], line 1\u001b[0m\n\u001b[0;32m----> 1\u001b[0m upper_level \u001b[38;5;241m=\u001b[39m q3_level \u001b[38;5;241m+\u001b[39m \u001b[38;5;241m1.5\u001b[39m \u001b[38;5;241m*\u001b[39mipr_level\n\u001b[1;32m      2\u001b[0m lower_level \u001b[38;5;241m=\u001b[39m q1_level \u001b[38;5;241m+\u001b[39m \u001b[38;5;241m1.5\u001b[39m \u001b[38;5;241m*\u001b[39mipr_level\n\u001b[1;32m      4\u001b[0m \u001b[38;5;28mprint\u001b[39m(upper_level,\u001b[38;5;124m'\u001b[39m\u001b[38;5;124m/\u001b[39m\u001b[38;5;124m'\u001b[39m,lower_level)\n",
      "\u001b[0;31mNameError\u001b[0m: name 'q3_level' is not defined"
     ]
    }
   ],
   "source": [
    "upper_level = q3_level + 1.5 *ipr_level\n",
    "lower_level = q1_level + 1.5 *ipr_level\n",
    "\n",
    "print(upper_level,'/',lower_level)\n",
    "print((df['level'] > upper_level).sum())\n",
    "print((df['level'] < lower_level).sum())"
   ]
  },
  {
   "cell_type": "code",
   "execution_count": 80,
   "metadata": {},
   "outputs": [
    {
     "ename": "SyntaxError",
     "evalue": "closing parenthesis ')' does not match opening parenthesis '[' (2043502615.py, line 1)",
     "output_type": "error",
     "traceback": [
      "\u001b[0;36m  Cell \u001b[0;32mIn[80], line 1\u001b[0;36m\u001b[0m\n\u001b[0;31m    df_iqr_level = df[(df['level'] > upper_level) & df['level'] < lower_level)]\u001b[0m\n\u001b[0m                                                                             ^\u001b[0m\n\u001b[0;31mSyntaxError\u001b[0m\u001b[0;31m:\u001b[0m closing parenthesis ')' does not match opening parenthesis '['\n"
     ]
    }
   ],
   "source": [
    "df_iqr_level = df[(df['level'] > upper_level & df['level'] < lower_level)]"
   ]
  }
 ],
 "metadata": {
  "colab": {
   "authorship_tag": "ABX9TyMn9OU79hyGhgT3Q7jtW4Kp",
   "provenance": []
  },
  "kernelspec": {
   "display_name": "Python 3 (ipykernel)",
   "language": "python",
   "name": "python3"
  },
  "language_info": {
   "codemirror_mode": {
    "name": "ipython",
    "version": 3
   },
   "file_extension": ".py",
   "mimetype": "text/x-python",
   "name": "python",
   "nbconvert_exporter": "python",
   "pygments_lexer": "ipython3",
   "version": "3.11.7"
  }
 },
 "nbformat": 4,
 "nbformat_minor": 4
}
