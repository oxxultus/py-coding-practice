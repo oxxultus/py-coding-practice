{
 "cells": [
  {
   "cell_type": "markdown",
   "metadata": {
    "id": "I-QQBeJhxOEy"
   },
   "source": [
    "### **1. CSV 파일 이해하기**"
   ]
  },
  {
   "cell_type": "markdown",
   "metadata": {
    "id": "rbEEskEZygb-"
   },
   "source": [
    "### **2. 파이썬으로 CSV 파일 다루기**"
   ]
  },
  {
   "cell_type": "code",
   "execution_count": 27,
   "metadata": {},
   "outputs": [],
   "source": [
    "import csv"
   ]
  },
  {
   "cell_type": "markdown",
   "metadata": {
    "id": "gTuW_OXW18h0"
   },
   "source": [
    "from google.colab import files\n",
    "f = files.upload()"
   ]
  },
  {
   "cell_type": "code",
   "execution_count": 28,
   "metadata": {
    "id": "hBo2V0Ee2n3T"
   },
   "outputs": [
    {
     "name": "stdout",
     "output_type": "stream",
     "text": [
      "['ID', '이름', '상징색', '취미', '특징']\n",
      "['001', '뽀로로', '파랑색', '낚시', '펭귄']\n",
      "['002', '에디', '주황색', '과학실험', '사막여우']\n",
      "['003', '크롱', '초록색', '눈싸움', '공룡']\n",
      "['004', '루피', '분홍색', '요리', '비버']\n",
      "['005', '패티', '보라색', '운동', '펭귄']\n"
     ]
    }
   ],
   "source": [
    "# CSV 파일 열기\n",
    "f = open('reference files/csv/characters.csv', 'r', encoding='cp949')\n",
    "\n",
    "# csv.reader를 사용하여 파일 읽기\n",
    "rdr = csv.reader(f)\n",
    "\n",
    "# 한 줄씩 읽어서 출력\n",
    "for line in rdr:\n",
    "    print(line)\n",
    "    \n",
    "# 파일 닫기\n",
    "f.close()"
   ]
  },
  {
   "cell_type": "code",
   "execution_count": 29,
   "metadata": {
    "id": "4SzfKHM6UAcw"
   },
   "outputs": [
    {
     "name": "stdout",
     "output_type": "stream",
     "text": [
      "이름\n",
      "뽀로로\n",
      "에디\n",
      "크롱\n",
      "루피\n",
      "패티\n"
     ]
    }
   ],
   "source": [
    "# CSV 파일 열기\n",
    "f = open('reference files/csv/characters.csv', 'r', encoding='cp949')\n",
    "\n",
    "# csv.reader를 사용하여 파일 읽기\n",
    "rdr = csv.reader(f)\n",
    "\n",
    "# 한 줄씩 읽어서 두 번째 열만 출력\n",
    "for line in rdr:\n",
    "    print(line[1])\n",
    "    \n",
    "# 파일 닫기\n",
    "f.close()"
   ]
  },
  {
   "cell_type": "code",
   "execution_count": 30,
   "metadata": {
    "executionInfo": {
     "elapsed": 3,
     "status": "ok",
     "timestamp": 1689571363767,
     "user": {
      "displayName": "안비단",
      "userId": "14578315619824770276"
     },
     "user_tz": -540
    },
    "id": "hDGwIj3wSZIw"
   },
   "outputs": [],
   "source": [
    "# CSV 파일을 쓰기 모드로 열기\n",
    "# 'newline' 매개변수는 빈 줄을 자동으로 삽입하지 않도록 합니다.\n",
    "f = open('reference files/csv/write.csv', 'w', encoding='cp949', newline='')\n",
    "# csv.writer 객체 생성\n",
    "wr = csv.writer(f)\n",
    "\n",
    "# 각 행에 데이터 작성\n",
    "# 첫 번째 행은 열의 이름\n",
    "wr.writerow(['ID', '이름', '상징색', '취미', '특징'])\n",
    "\n",
    "# 나머지 행은 실제 데이터\n",
    "wr.writerow(['규찬', '명기', '태균', '아현', '의담'])\n",
    "wr.writerow(['001', '뽀로로', '파랑색', '낚시', '펭귄'])\n",
    "wr.writerow(['002', '에디', '주황색', '과학실험', '사막여우'])\n",
    "wr.writerow(['003', '크롱', '초록색', '눈싸움', '공룡'])\n",
    "wr.writerow(['004', '루피', '분홍색', '요리', '비버'])\n",
    "wr.writerow(['005', '패티', '보라색', '운동', '펭귄'])\n",
    "\n",
    "# 파일 닫기\n",
    "f.close()"
   ]
  },
  {
   "cell_type": "code",
   "execution_count": 31,
   "metadata": {
    "executionInfo": {
     "elapsed": 274,
     "status": "ok",
     "timestamp": 1689571376630,
     "user": {
      "displayName": "안비단",
      "userId": "14578315619824770276"
     },
     "user_tz": -540
    },
    "id": "Iylcsu_-b0Ca"
   },
   "outputs": [],
   "source": [
    "# CSV 파일을 추가 모드로 열기\n",
    "# 'newline' 매개변수는 빈 줄을 자동으로 삽입하지 않도록 합니다.\n",
    "f = open('reference files/csv/write.csv', 'a', encoding='cp949', newline='')\n",
    "\n",
    "# csv.writer 객체 생성\n",
    "wr = csv.writer(f)\n",
    "\n",
    "# 추가할 데이터를 행에 작성\n",
    "wr.writerow(['006', '포비', '흰색', '춤', '북극곰'])\n",
    "\n",
    "# 파일 닫기\n",
    "f.close()"
   ]
  },
  {
   "cell_type": "markdown",
   "metadata": {},
   "source": [
    "### **LAb 문제** ###"
   ]
  },
  {
   "cell_type": "code",
   "execution_count": 32,
   "metadata": {},
   "outputs": [],
   "source": [
    "# CSV 파일을 쓰기 모드로 열기\n",
    "# 'newline' 매개변수는 빈 줄을 자동으로 삽입하지 않도록 합니다.\n",
    "f = open('reference files/csv/weather.csv', 'w', newline='')\n",
    "# csv.writer 객체 생성\n",
    "wr = csv.writer(f)\n",
    "\n",
    "# 헤더 행 작성\n",
    "wr.writerow(['날짜', '요일', '날씨', '최저기온', '최고기온', '강수량'])\n",
    "\n",
    "# 날씨 정보를 행에 작성\n",
    "wr.writerow(['20230101', '월', '맑음', -4.3, 3.8, 0])\n",
    "wr.writerow(['20230102', '화', '맑음', -7.4, 0.4, 0])\n",
    "wr.writerow(['20230103', '수', '맑음', -9.0, 0.6, 0])\n",
    "\n",
    "# 파일 닫기\n",
    "f.close()"
   ]
  },
  {
   "cell_type": "markdown",
   "metadata": {},
   "source": [
    "### **2. 파이썬으로 엑셀 파일 읽기**"
   ]
  },
  {
   "cell_type": "markdown",
   "metadata": {},
   "source": [
    "from google.colab import files\n",
    "f = files.upload()"
   ]
  },
  {
   "cell_type": "code",
   "execution_count": 37,
   "metadata": {},
   "outputs": [
    {
     "name": "stdout",
     "output_type": "stream",
     "text": [
      "Requirement already satisfied: openpyxl in c:\\users\\admin\\anaconda3\\envs\\anaconda3\\lib\\site-packages (3.1.2)\n",
      "Requirement already satisfied: et-xmlfile in c:\\users\\admin\\anaconda3\\envs\\anaconda3\\lib\\site-packages (from openpyxl) (1.1.0)\n"
     ]
    }
   ],
   "source": [
    "# openpyxl은 엑셀 파일을 다루는 파이썬 라이브러리 중 하나\n",
    "#실행해서 다운하기 처음 1회 \n",
    "!pip install openpyxl "
   ]
  },
  {
   "cell_type": "code",
   "execution_count": 38,
   "metadata": {},
   "outputs": [],
   "source": [
    "import openpyxl\n",
    "\n",
    "# Excel 파일을 열고 workbook 객체 생성\n",
    "wb = openpyxl.load_workbook('reference files/xlsx/characters.xlsx')"
   ]
  },
  {
   "cell_type": "code",
   "execution_count": 39,
   "metadata": {},
   "outputs": [
    {
     "name": "stdout",
     "output_type": "stream",
     "text": [
      "['Sheet1']\n"
     ]
    }
   ],
   "source": [
    "# 워크북에 포함된 시트의 이름을 출력\n",
    "print(wb.sheetnames)"
   ]
  },
  {
   "cell_type": "code",
   "execution_count": 40,
   "metadata": {},
   "outputs": [
    {
     "name": "stdout",
     "output_type": "stream",
     "text": [
      "ID\n"
     ]
    }
   ],
   "source": [
    "# 'Sheet1' 시트를 선택하여 해당 시트의 A1 셀의 값을 출력\n",
    "sheet1 = wb['Sheet1']  # 'Sheet1' 시트 선택\n",
    "print(sheet1['A1'].value)  # A1 셀의 값 출력"
   ]
  },
  {
   "cell_type": "markdown",
   "metadata": {},
   "source": [
    "### **3. 파이썬으로 엑셀 파일 작성하기**"
   ]
  },
  {
   "cell_type": "code",
   "execution_count": 41,
   "metadata": {},
   "outputs": [],
   "source": [
    "# 새로운 Excel 워크북을 생성합니다.\n",
    "wb = openpyxl.Workbook()"
   ]
  },
  {
   "cell_type": "code",
   "execution_count": 42,
   "metadata": {},
   "outputs": [
    {
     "name": "stdout",
     "output_type": "stream",
     "text": [
      "['Sheet', 'Sheet2']\n"
     ]
    }
   ],
   "source": [
    "# Excel 워크북에 'Sheet2'라는 이름의 새 시트를 추가합니다.\n",
    "wb.create_sheet('Sheet2')\n",
    "\n",
    "# 변경된 시트 목록을 출력합니다.\n",
    "print(wb.sheetnames)"
   ]
  },
  {
   "cell_type": "code",
   "execution_count": 43,
   "metadata": {},
   "outputs": [
    {
     "name": "stdout",
     "output_type": "stream",
     "text": [
      "['캐릭터 명단', '인기도 조사']\n"
     ]
    }
   ],
   "source": [
    "# 시트 이름을 할당하고 출력합니다\n",
    "sheet1 = wb['Sheet']  # Sheet1을 '캐릭터 명단'으로 변경합니다\n",
    "sheet2 = wb['Sheet2']  # Sheet2를 '인기도 조사'로 변경합니다\n",
    "\n",
    "sheet1.title = '캐릭터 명단'  # Sheet1의 이름을 '캐릭터 명단'으로 변경합니다\n",
    "sheet2.title = '인기도 조사'  # Sheet2의 이름을 '인기도 조사'로 변경합니다\n",
    "\n",
    "print(wb.sheetnames)  # 업데이트된 시트 이름을 출력합니다\n"
   ]
  },
  {
   "cell_type": "code",
   "execution_count": 44,
   "metadata": {},
   "outputs": [
    {
     "name": "stdout",
     "output_type": "stream",
     "text": [
      "인기도 조사결과\n"
     ]
    }
   ],
   "source": [
    "sheet2['B1'] = '인기도 조사결과'  # Sheet2의 B1 셀에 '인기도 조사결과'를 할당합니다\n",
    "print(sheet2['B1'].value)  # B1 셀의 값을 출력합니다"
   ]
  },
  {
   "cell_type": "code",
   "execution_count": 45,
   "metadata": {},
   "outputs": [
    {
     "name": "stdout",
     "output_type": "stream",
     "text": [
      "['캐릭터 명단', '인기도 조사', '인기도 조사 Copy']\n"
     ]
    }
   ],
   "source": [
    "copysheet = wb.copy_worksheet(sheet2)  # Sheet2를 복사하여 새 시트를 생성합니다\n",
    "print(wb.sheetnames)  # 업데이트된 시트 이름을 출력합니다"
   ]
  },
  {
   "cell_type": "code",
   "execution_count": 46,
   "metadata": {},
   "outputs": [
    {
     "name": "stdout",
     "output_type": "stream",
     "text": [
      "['캐릭터 명단', '인기도 조사', 'copy']\n",
      "인기도 조사결과\n"
     ]
    }
   ],
   "source": [
    "copysheet.title = 'copy'  # 복사된 시트의 이름을 'copy'로 변경합니다\n",
    "print(wb.sheetnames)  # 업데이트된 시트 이름을 출력합니다\n",
    "print(copysheet['B1'].value)  # 복사된 시트의 B1 셀의 값을 출력합니다"
   ]
  },
  {
   "cell_type": "code",
   "execution_count": 47,
   "metadata": {},
   "outputs": [
    {
     "name": "stdout",
     "output_type": "stream",
     "text": [
      "['캐릭터 명단', 'copy']\n"
     ]
    }
   ],
   "source": [
    "del wb['인기도 조사']  # '인기도 조사' 시트를 삭제합니다\n",
    "print(wb.sheetnames)  # 업데이트된 시트 이름을 출력합니다"
   ]
  },
  {
   "cell_type": "code",
   "execution_count": 48,
   "metadata": {},
   "outputs": [],
   "source": [
    "wb.save('reference files/xlsx/complete2.xlsx')  # 변경 사항을 포함한 워크북을 새 파일에 저장합니다"
   ]
  },
  {
   "cell_type": "markdown",
   "metadata": {},
   "source": [
    "### **실전분석** ##"
   ]
  },
  {
   "cell_type": "markdown",
   "metadata": {},
   "source": [
    "f = files.upload()"
   ]
  },
  {
   "cell_type": "code",
   "execution_count": 49,
   "metadata": {},
   "outputs": [],
   "source": [
    "wb = openpyxl.Workbook()  # 새 워크북을 생성합니다\n",
    "ws = wb.active  # 활성 시트에 대한 참조를 가져옵니다"
   ]
  },
  {
   "cell_type": "code",
   "execution_count": 50,
   "metadata": {},
   "outputs": [],
   "source": [
    "with open('reference files/csv/data1.csv', encoding='cp949') as f:\n",
    "    reader = csv.reader(f)  # CSV 파일을 읽는 객체를 생성합니다\n",
    "    for row in reader:\n",
    "        ws.append(row)  # CSV 파일의 각 행을 워크시트에 추가합니다"
   ]
  },
  {
   "cell_type": "code",
   "execution_count": 51,
   "metadata": {},
   "outputs": [],
   "source": [
    "ws2 = wb.create_sheet('Sheet2')  # 'Sheet2'라는 이름의 새 시트를 생성합니다\n",
    "\n",
    "with open('reference files/csv/data2.csv', encoding='cp949') as f:\n",
    "    reader = csv.reader(f)  # CSV 파일을 읽는 객체를 생성합니다\n",
    "    for row in reader:\n",
    "        ws2.append(row)  # CSV 파일의 각 행을 ws2 시트에 추가합니다"
   ]
  },
  {
   "cell_type": "code",
   "execution_count": 52,
   "metadata": {},
   "outputs": [],
   "source": [
    "ws3 = wb.create_sheet('Sheet3')  # 'Sheet3'라는 이름의 새 시트를 생성합니다\n",
    "\n",
    "with open('reference files/csv/data3.csv', encoding='cp949') as f:\n",
    "    reader = csv.reader(f)  # CSV 파일을 읽는 객체를 생성합니다\n",
    "    for row in reader:\n",
    "        ws3.append(row)  # CSV 파일의 각 행을 ws3 시트에 추가합니다"
   ]
  },
  {
   "cell_type": "code",
   "execution_count": 53,
   "metadata": {},
   "outputs": [],
   "source": [
    "ws.title = '11111'  # ws 시트의 이름을 '11111'로 변경합니다\n",
    "ws2.title = '2222'  # ws2 시트의 이름을 '2222'로 변경합니다\n",
    "ws3.title = '33333'  # ws3 시트의 이름을 '33333'로 변경합니다\n",
    "wb.save('reference files/xlsx/tr333333.xlsx')  # 변경 사항을 포함하여 워크북을 파일로 저장합니다"
   ]
  },
  {
   "cell_type": "code",
   "execution_count": 54,
   "metadata": {},
   "outputs": [],
   "source": [
    "ws.title = '경기도 의정부시_의정부경전철 혼잡도'  # ws 시트의 이름을 '경기도 의정부시_의정부경전철 혼잡도'로 변경합니다\n",
    "ws2.title = '대전교통공사_열차 혼잡도 분석'  # ws2 시트의 이름을 '대전교통공사_열차 혼잡도 분석'로 변경합니다\n",
    "ws3.title = '서울특별시_지하철 혼잡도 정보'  # ws3 시트의 이름을 '서울특별시_지하철 혼잡도 정보'로 변경합니다\n",
    "wb.save('reference files/xlsx/tr2.xlsx')  # 변경 사항을 포함하여 워크북을 파일로 저장합니다"
   ]
  }
 ],
 "metadata": {
  "colab": {
   "authorship_tag": "ABX9TyMn9OU79hyGhgT3Q7jtW4Kp",
   "provenance": []
  },
  "kernelspec": {
   "display_name": "Python 3 (ipykernel)",
   "language": "python",
   "name": "python3"
  },
  "language_info": {
   "codemirror_mode": {
    "name": "ipython",
    "version": 3
   },
   "file_extension": ".py",
   "mimetype": "text/x-python",
   "name": "python",
   "nbconvert_exporter": "python",
   "pygments_lexer": "ipython3",
   "version": "3.12.3"
  }
 },
 "nbformat": 4,
 "nbformat_minor": 4
}
