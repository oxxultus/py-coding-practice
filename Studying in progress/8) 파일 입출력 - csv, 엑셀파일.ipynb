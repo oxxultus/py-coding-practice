{
 "cells": [
  {
   "cell_type": "markdown",
   "metadata": {
    "id": "I-QQBeJhxOEy"
   },
   "source": [
    "### **1. CSV 파일 이해하기**"
   ]
  },
  {
   "cell_type": "markdown",
   "metadata": {
    "id": "rbEEskEZygb-"
   },
   "source": [
    "### **2. 파이썬으로 CSV 파일 다루기**"
   ]
  },
  {
   "cell_type": "code",
   "execution_count": 1,
   "metadata": {},
   "outputs": [],
   "source": [
    "import csv"
   ]
  },
  {
   "cell_type": "markdown",
   "metadata": {
    "id": "gTuW_OXW18h0"
   },
   "source": [
    "from google.colab import files\n",
    "f = files.upload()"
   ]
  },
  {
   "cell_type": "code",
   "execution_count": 2,
   "metadata": {
    "id": "hBo2V0Ee2n3T"
   },
   "outputs": [
    {
     "name": "stdout",
     "output_type": "stream",
     "text": [
      "['ID', '이름', '상징색', '취미', '특징']\n",
      "['001', '뽀로로', '파랑색', '낚시', '펭귄']\n",
      "['002', '에디', '주황색', '과학실험', '사막여우']\n",
      "['003', '크롱', '초록색', '눈싸움', '공룡']\n",
      "['004', '루피', '분홍색', '요리', '비버']\n",
      "['005', '패티', '보라색', '운동', '펭귄']\n"
     ]
    }
   ],
   "source": [
    "# CSV 파일 열기\n",
    "f = open('reference files/csv/characters.csv', 'r', encoding='cp949')\n",
    "\n",
    "# csv.reader를 사용하여 파일 읽기\n",
    "rdr = csv.reader(f)\n",
    "\n",
    "# 한 줄씩 읽어서 출력\n",
    "for line in rdr:\n",
    "    print(line)\n",
    "    \n",
    "# 파일 닫기\n",
    "f.close()"
   ]
  },
  {
   "cell_type": "code",
   "execution_count": 3,
   "metadata": {
    "id": "4SzfKHM6UAcw"
   },
   "outputs": [
    {
     "name": "stdout",
     "output_type": "stream",
     "text": [
      "이름\n",
      "뽀로로\n",
      "에디\n",
      "크롱\n",
      "루피\n",
      "패티\n"
     ]
    }
   ],
   "source": [
    "# CSV 파일 열기\n",
    "f = open('reference files/csv/characters.csv', 'r', encoding='cp949')\n",
    "\n",
    "# csv.reader를 사용하여 파일 읽기\n",
    "rdr = csv.reader(f)\n",
    "\n",
    "# 한 줄씩 읽어서 두 번째 열만 출력\n",
    "for line in rdr:\n",
    "    print(line[1])\n",
    "    \n",
    "# 파일 닫기\n",
    "f.close()"
   ]
  },
  {
   "cell_type": "code",
   "execution_count": 4,
   "metadata": {
    "executionInfo": {
     "elapsed": 3,
     "status": "ok",
     "timestamp": 1689571363767,
     "user": {
      "displayName": "안비단",
      "userId": "14578315619824770276"
     },
     "user_tz": -540
    },
    "id": "hDGwIj3wSZIw"
   },
   "outputs": [],
   "source": [
    "# CSV 파일을 쓰기 모드로 열기\n",
    "# 'newline' 매개변수는 빈 줄을 자동으로 삽입하지 않도록 합니다.\n",
    "f = open('reference files/csv/write.csv', 'w', encoding='cp949', newline='')\n",
    "# csv.writer 객체 생성\n",
    "wr = csv.writer(f)\n",
    "\n",
    "# 각 행에 데이터 작성\n",
    "# 첫 번째 행은 열의 이름\n",
    "wr.writerow(['ID', '이름', '상징색', '취미', '특징'])\n",
    "\n",
    "# 나머지 행은 실제 데이터\n",
    "wr.writerow(['규찬', '명기', '태균', '아현', '의담'])\n",
    "wr.writerow(['001', '뽀로로', '파랑색', '낚시', '펭귄'])\n",
    "wr.writerow(['002', '에디', '주황색', '과학실험', '사막여우'])\n",
    "wr.writerow(['003', '크롱', '초록색', '눈싸움', '공룡'])\n",
    "wr.writerow(['004', '루피', '분홍색', '요리', '비버'])\n",
    "wr.writerow(['005', '패티', '보라색', '운동', '펭귄'])\n",
    "\n",
    "# 파일 닫기\n",
    "f.close()"
   ]
  },
  {
   "cell_type": "code",
   "execution_count": 5,
   "metadata": {
    "executionInfo": {
     "elapsed": 274,
     "status": "ok",
     "timestamp": 1689571376630,
     "user": {
      "displayName": "안비단",
      "userId": "14578315619824770276"
     },
     "user_tz": -540
    },
    "id": "Iylcsu_-b0Ca"
   },
   "outputs": [],
   "source": [
    "# CSV 파일을 추가 모드로 열기\n",
    "# 'newline' 매개변수는 빈 줄을 자동으로 삽입하지 않도록 합니다.\n",
    "f = open('reference files/csv/write.csv', 'a', encoding='cp949', newline='')\n",
    "\n",
    "# csv.writer 객체 생성\n",
    "wr = csv.writer(f)\n",
    "\n",
    "# 추가할 데이터를 행에 작성\n",
    "wr.writerow(['006', '포비', '흰색', '춤', '북극곰'])\n",
    "\n",
    "# 파일 닫기\n",
    "f.close()"
   ]
  },
  {
   "cell_type": "markdown",
   "metadata": {},
   "source": [
    "### **LAb 문제** ###"
   ]
  },
  {
   "cell_type": "code",
   "execution_count": 6,
   "metadata": {},
   "outputs": [],
   "source": [
    "# CSV 파일을 쓰기 모드로 열기\n",
    "# 'newline' 매개변수는 빈 줄을 자동으로 삽입하지 않도록 합니다.\n",
    "f = open('reference files/csv/weather.csv', 'w', newline='')\n",
    "# csv.writer 객체 생성\n",
    "wr = csv.writer(f)\n",
    "\n",
    "# 헤더 행 작성\n",
    "wr.writerow(['날짜', '요일', '날씨', '최저기온', '최고기온', '강수량'])\n",
    "\n",
    "# 날씨 정보를 행에 작성\n",
    "wr.writerow(['20230101', '월', '맑음', -4.3, 3.8, 0])\n",
    "wr.writerow(['20230102', '화', '맑음', -7.4, 0.4, 0])\n",
    "wr.writerow(['20230103', '수', '맑음', -9.0, 0.6, 0])\n",
    "\n",
    "# 파일 닫기\n",
    "f.close()"
   ]
  },
  {
   "cell_type": "markdown",
   "metadata": {},
   "source": [
    "### **2. 파이썬으로 엑셀 파일 읽기**"
   ]
  },
  {
   "cell_type": "markdown",
   "metadata": {},
   "source": [
    "from google.colab import files\n",
    "f = files.upload()"
   ]
  },
  {
   "cell_type": "code",
   "execution_count": 7,
   "metadata": {},
   "outputs": [
    {
     "name": "stdout",
     "output_type": "stream",
     "text": [
      "Requirement already satisfied: openpyxl in c:\\users\\admin\\anaconda3\\envs\\anaconda3\\lib\\site-packages (3.1.2)\n",
      "Requirement already satisfied: et-xmlfile in c:\\users\\admin\\anaconda3\\envs\\anaconda3\\lib\\site-packages (from openpyxl) (1.1.0)\n"
     ]
    }
   ],
   "source": [
    "# openpyxl은 엑셀 파일을 다루는 파이썬 라이브러리 중 하나\n",
    "#실행해서 다운하기 처음 1회 \n",
    "!pip install openpyxl "
   ]
  },
  {
   "cell_type": "code",
   "execution_count": 8,
   "metadata": {},
   "outputs": [],
   "source": [
    "import openpyxl\n",
    "\n",
    "# Excel 파일을 열고 workbook 객체 생성\n",
    "wb = openpyxl.load_workbook('reference files/xlsx/characters.xlsx')"
   ]
  },
  {
   "cell_type": "code",
   "execution_count": 9,
   "metadata": {},
   "outputs": [
    {
     "name": "stdout",
     "output_type": "stream",
     "text": [
      "['Sheet1']\n"
     ]
    }
   ],
   "source": [
    "# 워크북에 포함된 시트의 이름을 출력\n",
    "print(wb.sheetnames)"
   ]
  },
  {
   "cell_type": "code",
   "execution_count": 10,
   "metadata": {},
   "outputs": [
    {
     "name": "stdout",
     "output_type": "stream",
     "text": [
      "ID\n"
     ]
    }
   ],
   "source": [
    "# 'Sheet1' 시트를 선택하여 해당 시트의 A1 셀의 값을 출력\n",
    "sheet1 = wb['Sheet1']  # 'Sheet1' 시트 선택\n",
    "print(sheet1['A1'].value)  # A1 셀의 값 출력"
   ]
  },
  {
   "cell_type": "markdown",
   "metadata": {},
   "source": [
    "### **3. 파이썬으로 엑셀 파일 작성하기**"
   ]
  },
  {
   "cell_type": "code",
   "execution_count": 11,
   "metadata": {},
   "outputs": [],
   "source": [
    "# 새로운 Excel 워크북을 생성합니다.\n",
    "wb = openpyxl.Workbook()"
   ]
  },
  {
   "cell_type": "code",
   "execution_count": 12,
   "metadata": {},
   "outputs": [
    {
     "name": "stdout",
     "output_type": "stream",
     "text": [
      "['Sheet', 'Sheet2']\n"
     ]
    }
   ],
   "source": [
    "# Excel 워크북에 'Sheet2'라는 이름의 새 시트를 추가합니다.\n",
    "wb.create_sheet('Sheet2')\n",
    "\n",
    "# 변경된 시트 목록을 출력합니다.\n",
    "print(wb.sheetnames)"
   ]
  },
  {
   "cell_type": "code",
   "execution_count": 13,
   "metadata": {},
   "outputs": [
    {
     "name": "stdout",
     "output_type": "stream",
     "text": [
      "['캐릭터 명단', '인기도 조사']\n"
     ]
    }
   ],
   "source": [
    "# 시트 이름을 할당하고 출력합니다\n",
    "sheet1 = wb['Sheet']  # Sheet1을 '캐릭터 명단'으로 변경합니다\n",
    "sheet2 = wb['Sheet2']  # Sheet2를 '인기도 조사'로 변경합니다\n",
    "\n",
    "sheet1.title = '캐릭터 명단'  # Sheet1의 이름을 '캐릭터 명단'으로 변경합니다\n",
    "sheet2.title = '인기도 조사'  # Sheet2의 이름을 '인기도 조사'로 변경합니다\n",
    "\n",
    "print(wb.sheetnames)  # 업데이트된 시트 이름을 출력합니다\n"
   ]
  },
  {
   "cell_type": "code",
   "execution_count": 14,
   "metadata": {},
   "outputs": [
    {
     "name": "stdout",
     "output_type": "stream",
     "text": [
      "인기도 조사결과\n"
     ]
    }
   ],
   "source": [
    "sheet2['B1'] = '인기도 조사결과'  # Sheet2의 B1 셀에 '인기도 조사결과'를 할당합니다\n",
    "print(sheet2['B1'].value)  # B1 셀의 값을 출력합니다"
   ]
  },
  {
   "cell_type": "code",
   "execution_count": 15,
   "metadata": {},
   "outputs": [
    {
     "name": "stdout",
     "output_type": "stream",
     "text": [
      "['캐릭터 명단', '인기도 조사', '인기도 조사 Copy']\n"
     ]
    }
   ],
   "source": [
    "copysheet = wb.copy_worksheet(sheet2)  # Sheet2를 복사하여 새 시트를 생성합니다\n",
    "print(wb.sheetnames)  # 업데이트된 시트 이름을 출력합니다"
   ]
  },
  {
   "cell_type": "code",
   "execution_count": 16,
   "metadata": {},
   "outputs": [
    {
     "name": "stdout",
     "output_type": "stream",
     "text": [
      "['캐릭터 명단', '인기도 조사', 'copy']\n",
      "인기도 조사결과\n"
     ]
    }
   ],
   "source": [
    "copysheet.title = 'copy'  # 복사된 시트의 이름을 'copy'로 변경합니다\n",
    "print(wb.sheetnames)  # 업데이트된 시트 이름을 출력합니다\n",
    "print(copysheet['B1'].value)  # 복사된 시트의 B1 셀의 값을 출력합니다"
   ]
  },
  {
   "cell_type": "code",
   "execution_count": 17,
   "metadata": {},
   "outputs": [
    {
     "name": "stdout",
     "output_type": "stream",
     "text": [
      "['캐릭터 명단', 'copy']\n"
     ]
    }
   ],
   "source": [
    "del wb['인기도 조사']  # '인기도 조사' 시트를 삭제합니다\n",
    "print(wb.sheetnames)  # 업데이트된 시트 이름을 출력합니다"
   ]
  },
  {
   "cell_type": "code",
   "execution_count": 18,
   "metadata": {},
   "outputs": [],
   "source": [
    "wb.save('reference files/xlsx/complete2.xlsx')  # 변경 사항을 포함한 워크북을 새 파일에 저장합니다"
   ]
  },
  {
   "cell_type": "markdown",
   "metadata": {},
   "source": [
    "### **실전분석** ##"
   ]
  },
  {
   "cell_type": "markdown",
   "metadata": {},
   "source": [
    "f = files.upload()"
   ]
  },
  {
   "cell_type": "code",
   "execution_count": 19,
   "metadata": {},
   "outputs": [],
   "source": [
    "wb = openpyxl.Workbook()  # 새 워크북을 생성합니다\n",
    "ws = wb.active  # 활성 시트에 대한 참조를 가져옵니다"
   ]
  },
  {
   "cell_type": "code",
   "execution_count": 20,
   "metadata": {},
   "outputs": [],
   "source": [
    "with open('reference files/csv/data1.csv', encoding='cp949') as f:\n",
    "    reader = csv.reader(f)  # CSV 파일을 읽는 객체를 생성합니다\n",
    "    for row in reader:\n",
    "        ws.append(row)  # CSV 파일의 각 행을 워크시트에 추가합니다"
   ]
  },
  {
   "cell_type": "code",
   "execution_count": 21,
   "metadata": {},
   "outputs": [],
   "source": [
    "ws2 = wb.create_sheet('Sheet2')  # 'Sheet2'라는 이름의 새 시트를 생성합니다\n",
    "\n",
    "with open('reference files/csv/data2.csv', encoding='cp949') as f:\n",
    "    reader = csv.reader(f)  # CSV 파일을 읽는 객체를 생성합니다\n",
    "    for row in reader:\n",
    "        ws2.append(row)  # CSV 파일의 각 행을 ws2 시트에 추가합니다"
   ]
  },
  {
   "cell_type": "code",
   "execution_count": 22,
   "metadata": {},
   "outputs": [],
   "source": [
    "ws3 = wb.create_sheet('Sheet3')  # 'Sheet3'라는 이름의 새 시트를 생성합니다\n",
    "\n",
    "with open('reference files/csv/data3.csv', encoding='cp949') as f:\n",
    "    reader = csv.reader(f)  # CSV 파일을 읽는 객체를 생성합니다\n",
    "    for row in reader:\n",
    "        ws3.append(row)  # CSV 파일의 각 행을 ws3 시트에 추가합니다"
   ]
  },
  {
   "cell_type": "code",
   "execution_count": 23,
   "metadata": {},
   "outputs": [],
   "source": [
    "ws.title = '11111'  # ws 시트의 이름을 '11111'로 변경합니다\n",
    "ws2.title = '2222'  # ws2 시트의 이름을 '2222'로 변경합니다\n",
    "ws3.title = '33333'  # ws3 시트의 이름을 '33333'로 변경합니다\n",
    "wb.save('reference files/xlsx/tr333333.xlsx')  # 변경 사항을 포함하여 워크북을 파일로 저장합니다"
   ]
  },
  {
   "cell_type": "code",
   "execution_count": 24,
   "metadata": {},
   "outputs": [],
   "source": [
    "ws.title = '경기도 의정부시_의정부경전철 혼잡도'  # ws 시트의 이름을 '경기도 의정부시_의정부경전철 혼잡도'로 변경합니다\n",
    "ws2.title = '대전교통공사_열차 혼잡도 분석'  # ws2 시트의 이름을 '대전교통공사_열차 혼잡도 분석'로 변경합니다\n",
    "ws3.title = '서울특별시_지하철 혼잡도 정보'  # ws3 시트의 이름을 '서울특별시_지하철 혼잡도 정보'로 변경합니다\n",
    "wb.save('reference files/xlsx/tr2.xlsx')  # 변경 사항을 포함하여 워크북을 파일로 저장합니다"
   ]
  },
  {
   "cell_type": "markdown",
   "metadata": {},
   "source": [
    "## 데이터전처리 - 쓸모없는 값을 실행전 수정하는 것(NaN)"
   ]
  },
  {
   "cell_type": "code",
   "execution_count": 25,
   "metadata": {},
   "outputs": [],
   "source": [
    "import os\n",
    "import numpy as np\n",
    "import pandas as pd\n",
    "import matplotlib.pyplot as plt\n",
    "import warnings\n",
    "from datetime import *\n",
    "warnings.filterwarnings('ignore')"
   ]
  },
  {
   "cell_type": "code",
   "execution_count": 26,
   "metadata": {},
   "outputs": [
    {
     "data": {
      "text/html": [
       "<div>\n",
       "<style scoped>\n",
       "    .dataframe tbody tr th:only-of-type {\n",
       "        vertical-align: middle;\n",
       "    }\n",
       "\n",
       "    .dataframe tbody tr th {\n",
       "        vertical-align: top;\n",
       "    }\n",
       "\n",
       "    .dataframe thead th {\n",
       "        text-align: right;\n",
       "    }\n",
       "</style>\n",
       "<table border=\"1\" class=\"dataframe\">\n",
       "  <thead>\n",
       "    <tr style=\"text-align: right;\">\n",
       "      <th></th>\n",
       "      <th>A</th>\n",
       "      <th>B</th>\n",
       "      <th>C</th>\n",
       "    </tr>\n",
       "  </thead>\n",
       "  <tbody>\n",
       "    <tr>\n",
       "      <th>0</th>\n",
       "      <td>1.0</td>\n",
       "      <td>6.0</td>\n",
       "      <td>11.0</td>\n",
       "    </tr>\n",
       "    <tr>\n",
       "      <th>1</th>\n",
       "      <td>2.0</td>\n",
       "      <td>7.0</td>\n",
       "      <td>12.0</td>\n",
       "    </tr>\n",
       "    <tr>\n",
       "      <th>2</th>\n",
       "      <td>NaN</td>\n",
       "      <td>8.0</td>\n",
       "      <td>13.0</td>\n",
       "    </tr>\n",
       "    <tr>\n",
       "      <th>3</th>\n",
       "      <td>4.0</td>\n",
       "      <td>NaN</td>\n",
       "      <td>NaN</td>\n",
       "    </tr>\n",
       "    <tr>\n",
       "      <th>4</th>\n",
       "      <td>5.0</td>\n",
       "      <td>10.0</td>\n",
       "      <td>NaN</td>\n",
       "    </tr>\n",
       "  </tbody>\n",
       "</table>\n",
       "</div>"
      ],
      "text/plain": [
       "     A     B     C\n",
       "0  1.0   6.0  11.0\n",
       "1  2.0   7.0  12.0\n",
       "2  NaN   8.0  13.0\n",
       "3  4.0   NaN   NaN\n",
       "4  5.0  10.0   NaN"
      ]
     },
     "execution_count": 26,
     "metadata": {},
     "output_type": "execute_result"
    }
   ],
   "source": [
    "df = pd.DataFrame({'A' : [1,2,np.nan,4,5],\n",
    "                   'B' : [6,7,8,np.nan,10],\n",
    "                   'C' : [11,12,13,np.nan,np.nan]})\n",
    "df"
   ]
  },
  {
   "cell_type": "code",
   "execution_count": 27,
   "metadata": {},
   "outputs": [
    {
     "data": {
      "text/html": [
       "<div>\n",
       "<style scoped>\n",
       "    .dataframe tbody tr th:only-of-type {\n",
       "        vertical-align: middle;\n",
       "    }\n",
       "\n",
       "    .dataframe tbody tr th {\n",
       "        vertical-align: top;\n",
       "    }\n",
       "\n",
       "    .dataframe thead th {\n",
       "        text-align: right;\n",
       "    }\n",
       "</style>\n",
       "<table border=\"1\" class=\"dataframe\">\n",
       "  <thead>\n",
       "    <tr style=\"text-align: right;\">\n",
       "      <th></th>\n",
       "      <th>A</th>\n",
       "      <th>B</th>\n",
       "      <th>C</th>\n",
       "    </tr>\n",
       "  </thead>\n",
       "  <tbody>\n",
       "    <tr>\n",
       "      <th>0</th>\n",
       "      <td>False</td>\n",
       "      <td>False</td>\n",
       "      <td>False</td>\n",
       "    </tr>\n",
       "    <tr>\n",
       "      <th>1</th>\n",
       "      <td>False</td>\n",
       "      <td>False</td>\n",
       "      <td>False</td>\n",
       "    </tr>\n",
       "    <tr>\n",
       "      <th>2</th>\n",
       "      <td>True</td>\n",
       "      <td>False</td>\n",
       "      <td>False</td>\n",
       "    </tr>\n",
       "    <tr>\n",
       "      <th>3</th>\n",
       "      <td>False</td>\n",
       "      <td>True</td>\n",
       "      <td>True</td>\n",
       "    </tr>\n",
       "    <tr>\n",
       "      <th>4</th>\n",
       "      <td>False</td>\n",
       "      <td>False</td>\n",
       "      <td>True</td>\n",
       "    </tr>\n",
       "  </tbody>\n",
       "</table>\n",
       "</div>"
      ],
      "text/plain": [
       "       A      B      C\n",
       "0  False  False  False\n",
       "1  False  False  False\n",
       "2   True  False  False\n",
       "3  False   True   True\n",
       "4  False  False   True"
      ]
     },
     "execution_count": 27,
     "metadata": {},
     "output_type": "execute_result"
    }
   ],
   "source": [
    "pd.isna(df)"
   ]
  },
  {
   "cell_type": "code",
   "execution_count": 28,
   "metadata": {},
   "outputs": [
    {
     "data": {
      "text/plain": [
       "A    1\n",
       "B    1\n",
       "C    2\n",
       "dtype: int64"
      ]
     },
     "execution_count": 28,
     "metadata": {},
     "output_type": "execute_result"
    }
   ],
   "source": [
    "pd.isna(df).sum() # nan의 합을 출력"
   ]
  },
  {
   "cell_type": "code",
   "execution_count": 29,
   "metadata": {},
   "outputs": [
    {
     "data": {
      "text/html": [
       "<div>\n",
       "<style scoped>\n",
       "    .dataframe tbody tr th:only-of-type {\n",
       "        vertical-align: middle;\n",
       "    }\n",
       "\n",
       "    .dataframe tbody tr th {\n",
       "        vertical-align: top;\n",
       "    }\n",
       "\n",
       "    .dataframe thead th {\n",
       "        text-align: right;\n",
       "    }\n",
       "</style>\n",
       "<table border=\"1\" class=\"dataframe\">\n",
       "  <thead>\n",
       "    <tr style=\"text-align: right;\">\n",
       "      <th></th>\n",
       "      <th>A</th>\n",
       "      <th>B</th>\n",
       "      <th>C</th>\n",
       "    </tr>\n",
       "  </thead>\n",
       "  <tbody>\n",
       "    <tr>\n",
       "      <th>0</th>\n",
       "      <td>1.0</td>\n",
       "      <td>6.0</td>\n",
       "      <td>11.0</td>\n",
       "    </tr>\n",
       "    <tr>\n",
       "      <th>1</th>\n",
       "      <td>2.0</td>\n",
       "      <td>7.0</td>\n",
       "      <td>12.0</td>\n",
       "    </tr>\n",
       "  </tbody>\n",
       "</table>\n",
       "</div>"
      ],
      "text/plain": [
       "     A    B     C\n",
       "0  1.0  6.0  11.0\n",
       "1  2.0  7.0  12.0"
      ]
     },
     "execution_count": 29,
     "metadata": {},
     "output_type": "execute_result"
    }
   ],
   "source": [
    "df_drop_nan = df.dropna()\n",
    "df_drop_nan"
   ]
  },
  {
   "cell_type": "code",
   "execution_count": 30,
   "metadata": {},
   "outputs": [
    {
     "data": {
      "text/html": [
       "<div>\n",
       "<style scoped>\n",
       "    .dataframe tbody tr th:only-of-type {\n",
       "        vertical-align: middle;\n",
       "    }\n",
       "\n",
       "    .dataframe tbody tr th {\n",
       "        vertical-align: top;\n",
       "    }\n",
       "\n",
       "    .dataframe thead th {\n",
       "        text-align: right;\n",
       "    }\n",
       "</style>\n",
       "<table border=\"1\" class=\"dataframe\">\n",
       "  <thead>\n",
       "    <tr style=\"text-align: right;\">\n",
       "      <th></th>\n",
       "      <th>A</th>\n",
       "      <th>B</th>\n",
       "      <th>C</th>\n",
       "    </tr>\n",
       "  </thead>\n",
       "  <tbody>\n",
       "    <tr>\n",
       "      <th>0</th>\n",
       "      <td>1.0</td>\n",
       "      <td>6.0</td>\n",
       "      <td>11.0</td>\n",
       "    </tr>\n",
       "    <tr>\n",
       "      <th>1</th>\n",
       "      <td>2.0</td>\n",
       "      <td>7.0</td>\n",
       "      <td>12.0</td>\n",
       "    </tr>\n",
       "    <tr>\n",
       "      <th>2</th>\n",
       "      <td>NaN</td>\n",
       "      <td>8.0</td>\n",
       "      <td>13.0</td>\n",
       "    </tr>\n",
       "  </tbody>\n",
       "</table>\n",
       "</div>"
      ],
      "text/plain": [
       "     A    B     C\n",
       "0  1.0  6.0  11.0\n",
       "1  2.0  7.0  12.0\n",
       "2  NaN  8.0  13.0"
      ]
     },
     "execution_count": 30,
     "metadata": {},
     "output_type": "execute_result"
    }
   ],
   "source": [
    "df_drop_B_C = df.dropna(subset=['B','C'])\n",
    "df_drop_B_C"
   ]
  },
  {
   "cell_type": "code",
   "execution_count": 31,
   "metadata": {},
   "outputs": [
    {
     "data": {
      "text/html": [
       "<div>\n",
       "<style scoped>\n",
       "    .dataframe tbody tr th:only-of-type {\n",
       "        vertical-align: middle;\n",
       "    }\n",
       "\n",
       "    .dataframe tbody tr th {\n",
       "        vertical-align: top;\n",
       "    }\n",
       "\n",
       "    .dataframe thead th {\n",
       "        text-align: right;\n",
       "    }\n",
       "</style>\n",
       "<table border=\"1\" class=\"dataframe\">\n",
       "  <thead>\n",
       "    <tr style=\"text-align: right;\">\n",
       "      <th></th>\n",
       "      <th>A</th>\n",
       "      <th>B</th>\n",
       "      <th>C</th>\n",
       "    </tr>\n",
       "  </thead>\n",
       "  <tbody>\n",
       "    <tr>\n",
       "      <th>0</th>\n",
       "      <td>False</td>\n",
       "      <td>False</td>\n",
       "      <td>False</td>\n",
       "    </tr>\n",
       "    <tr>\n",
       "      <th>1</th>\n",
       "      <td>False</td>\n",
       "      <td>False</td>\n",
       "      <td>False</td>\n",
       "    </tr>\n",
       "    <tr>\n",
       "      <th>2</th>\n",
       "      <td>True</td>\n",
       "      <td>False</td>\n",
       "      <td>False</td>\n",
       "    </tr>\n",
       "    <tr>\n",
       "      <th>3</th>\n",
       "      <td>False</td>\n",
       "      <td>True</td>\n",
       "      <td>True</td>\n",
       "    </tr>\n",
       "    <tr>\n",
       "      <th>4</th>\n",
       "      <td>False</td>\n",
       "      <td>False</td>\n",
       "      <td>True</td>\n",
       "    </tr>\n",
       "  </tbody>\n",
       "</table>\n",
       "</div>"
      ],
      "text/plain": [
       "       A      B      C\n",
       "0  False  False  False\n",
       "1  False  False  False\n",
       "2   True  False  False\n",
       "3  False   True   True\n",
       "4  False  False   True"
      ]
     },
     "execution_count": 31,
     "metadata": {},
     "output_type": "execute_result"
    }
   ],
   "source": [
    "pd.isna(df)"
   ]
  },
  {
   "cell_type": "code",
   "execution_count": 32,
   "metadata": {},
   "outputs": [
    {
     "name": "stdout",
     "output_type": "stream",
     "text": [
      "0    11.0\n",
      "1    12.0\n",
      "2    13.0\n",
      "3     0.0\n",
      "4     0.0\n",
      "Name: C, dtype: float64\n"
     ]
    }
   ],
   "source": [
    "df_0 = df['C'].fillna(0)\n",
    "print(df_0)"
   ]
  },
  {
   "cell_type": "code",
   "execution_count": 33,
   "metadata": {},
   "outputs": [
    {
     "data": {
      "text/plain": [
       "0        1.0\n",
       "1        2.0\n",
       "2    missing\n",
       "3        4.0\n",
       "4        5.0\n",
       "Name: A, dtype: object"
      ]
     },
     "execution_count": 33,
     "metadata": {},
     "output_type": "execute_result"
    }
   ],
   "source": [
    "df_missing = df['A'].fillna('missing')\n",
    "df_missing"
   ]
  },
  {
   "cell_type": "code",
   "execution_count": 34,
   "metadata": {},
   "outputs": [
    {
     "name": "stdout",
     "output_type": "stream",
     "text": [
      "     A     B     C\n",
      "0  1.0   6.0  11.0\n",
      "1  2.0   7.0  12.0\n",
      "2  NaN   8.0  13.0\n",
      "3  4.0   NaN   NaN\n",
      "4  5.0  10.0   NaN \n",
      "\n",
      "     A      B     C\n",
      "0  1.0   6.00  11.0\n",
      "1  2.0   7.00  12.0\n",
      "2  3.0   8.00  13.0\n",
      "3  4.0   7.75  12.0\n",
      "4  5.0  10.00  12.0\n",
      "     A     B     C\n",
      "0  1.0   6.0  11.0\n",
      "1  2.0   7.0  12.0\n",
      "2  NaN   8.0  13.0\n",
      "3  4.0   NaN   NaN\n",
      "4  5.0  10.0   NaN \n",
      "\n"
     ]
    }
   ],
   "source": [
    "#df.fillna(df.mean(), inplace = True)\n",
    "df_mean = df.fillna(df.mean())\n",
    "print(df,'\\n')\n",
    "print(df_mean)\n",
    "print(df,'\\n')"
   ]
  },
  {
   "cell_type": "code",
   "execution_count": 35,
   "metadata": {},
   "outputs": [
    {
     "name": "stdout",
     "output_type": "stream",
     "text": [
      "     A     B     C\n",
      "0  1.0   6.0  11.0\n",
      "1  2.0   7.0  12.0\n",
      "2  2.0   8.0  13.0\n",
      "3  4.0   8.0  13.0\n",
      "4  5.0  10.0  13.0 \n",
      "\n"
     ]
    }
   ],
   "source": [
    "df_fill = df.fillna(method = 'ffill') # NAN값을 전 값으로 채움\n",
    "print(df_fill,'\\n')"
   ]
  },
  {
   "cell_type": "code",
   "execution_count": 36,
   "metadata": {},
   "outputs": [
    {
     "name": "stdout",
     "output_type": "stream",
     "text": [
      "     A     B     C\n",
      "0  1.0   6.0  11.0\n",
      "1  2.0   7.0  12.0\n",
      "2  4.0   8.0  13.0\n",
      "3  4.0  10.0   NaN\n",
      "4  5.0  10.0   NaN\n"
     ]
    }
   ],
   "source": [
    "df_bfill = df.fillna(method = 'bfill') # NAN값을 다음값으로 채움\n",
    "print(df_bfill)"
   ]
  },
  {
   "cell_type": "code",
   "execution_count": 37,
   "metadata": {},
   "outputs": [],
   "source": [
    "fill_dict = {'A':df['A'].mean(),'B':'12/25','C':'missing'} # NAN값을 A의 평균,12/25,MISSING으로 채움 \n",
    "df_filled= df.fillna(fill_dict)"
   ]
  },
  {
   "cell_type": "markdown",
   "metadata": {},
   "source": [
    "## 이상치를 제거하는것 박스플롯,IQR(분위수Q1 - 25, Q2 - 50, Q1- 1.5 * IQR = 최솟값, Q3 +1.5 * IQR = 최댓값"
   ]
  },
  {
   "cell_type": "code",
   "execution_count": 40,
   "metadata": {},
   "outputs": [
    {
     "data": {
      "text/plain": [
       "['대전태평(암반)_2009_hr.xlsx',\n",
       " '대전태평(암반)_2010_hr.xlsx',\n",
       " '대전태평(암반)_2011_hr.xlsx',\n",
       " '대전태평(암반)_2012_hr.xlsx',\n",
       " '대전태평(암반)_2013_hr.xlsx',\n",
       " '대전태평(암반)_2014_hr.xlsx',\n",
       " '대전태평(암반)_2015_hr.xlsx',\n",
       " '대전태평(암반)_2016_hr.xlsx']"
      ]
     },
     "execution_count": 40,
     "metadata": {},
     "output_type": "execute_result"
    }
   ],
   "source": [
    "path = 'reference files/xlsx/대전태평/' # \n",
    "file_list = os.listdir(path) # 탐색기 \n",
    "file_list"
   ]
  },
  {
   "cell_type": "code",
   "execution_count": 41,
   "metadata": {},
   "outputs": [
    {
     "data": {
      "text/plain": [
       "['대전태평(암반)_2009_hr.xlsx',\n",
       " '대전태평(암반)_2010_hr.xlsx',\n",
       " '대전태평(암반)_2011_hr.xlsx',\n",
       " '대전태평(암반)_2012_hr.xlsx',\n",
       " '대전태평(암반)_2013_hr.xlsx',\n",
       " '대전태평(암반)_2014_hr.xlsx',\n",
       " '대전태평(암반)_2015_hr.xlsx',\n",
       " '대전태평(암반)_2016_hr.xlsx']"
      ]
     },
     "execution_count": 41,
     "metadata": {},
     "output_type": "execute_result"
    }
   ],
   "source": [
    "file_list_py = [file for file in file_list if file.endswith('.xlsx')] # 엑셀 파일만 확인\n",
    "file_list_py"
   ]
  },
  {
   "cell_type": "code",
   "execution_count": 42,
   "metadata": {},
   "outputs": [
    {
     "data": {
      "text/plain": [
       "['대전태평(암반)_2009_hr.xlsx',\n",
       " '대전태평(암반)_2010_hr.xlsx',\n",
       " '대전태평(암반)_2011_hr.xlsx',\n",
       " '대전태평(암반)_2012_hr.xlsx',\n",
       " '대전태평(암반)_2013_hr.xlsx',\n",
       " '대전태평(암반)_2014_hr.xlsx',\n",
       " '대전태평(암반)_2015_hr.xlsx',\n",
       " '대전태평(암반)_2016_hr.xlsx']"
      ]
     },
     "execution_count": 42,
     "metadata": {},
     "output_type": "execute_result"
    }
   ],
   "source": [
    "file_list_py = [file for file in file_list if file.endswith('.xlsx')]\n",
    "file_list_py"
   ]
  },
  {
   "cell_type": "code",
   "execution_count": 43,
   "metadata": {},
   "outputs": [
    {
     "data": {
      "text/html": [
       "<div>\n",
       "<style scoped>\n",
       "    .dataframe tbody tr th:only-of-type {\n",
       "        vertical-align: middle;\n",
       "    }\n",
       "\n",
       "    .dataframe tbody tr th {\n",
       "        vertical-align: top;\n",
       "    }\n",
       "\n",
       "    .dataframe thead th {\n",
       "        text-align: right;\n",
       "    }\n",
       "</style>\n",
       "<table border=\"1\" class=\"dataframe\">\n",
       "  <thead>\n",
       "    <tr style=\"text-align: right;\">\n",
       "      <th></th>\n",
       "      <th>관측소</th>\n",
       "      <th>구분</th>\n",
       "      <th>날짜</th>\n",
       "      <th>시간</th>\n",
       "      <th>수온(℃)</th>\n",
       "      <th>수위(el.m)</th>\n",
       "      <th>EC(㎲/㎝)</th>\n",
       "    </tr>\n",
       "  </thead>\n",
       "  <tbody>\n",
       "    <tr>\n",
       "      <th>0</th>\n",
       "      <td>대전태평</td>\n",
       "      <td>(암반)</td>\n",
       "      <td>20090101</td>\n",
       "      <td>0</td>\n",
       "      <td>16.1</td>\n",
       "      <td>44.47</td>\n",
       "      <td>749</td>\n",
       "    </tr>\n",
       "    <tr>\n",
       "      <th>1</th>\n",
       "      <td>대전태평</td>\n",
       "      <td>(암반)</td>\n",
       "      <td>20090101</td>\n",
       "      <td>1</td>\n",
       "      <td>16.1</td>\n",
       "      <td>44.47</td>\n",
       "      <td>749</td>\n",
       "    </tr>\n",
       "    <tr>\n",
       "      <th>2</th>\n",
       "      <td>대전태평</td>\n",
       "      <td>(암반)</td>\n",
       "      <td>20090101</td>\n",
       "      <td>2</td>\n",
       "      <td>16.1</td>\n",
       "      <td>44.47</td>\n",
       "      <td>749</td>\n",
       "    </tr>\n",
       "    <tr>\n",
       "      <th>3</th>\n",
       "      <td>대전태평</td>\n",
       "      <td>(암반)</td>\n",
       "      <td>20090101</td>\n",
       "      <td>3</td>\n",
       "      <td>16.1</td>\n",
       "      <td>44.47</td>\n",
       "      <td>749</td>\n",
       "    </tr>\n",
       "    <tr>\n",
       "      <th>4</th>\n",
       "      <td>대전태평</td>\n",
       "      <td>(암반)</td>\n",
       "      <td>20090101</td>\n",
       "      <td>4</td>\n",
       "      <td>16.1</td>\n",
       "      <td>44.47</td>\n",
       "      <td>749</td>\n",
       "    </tr>\n",
       "    <tr>\n",
       "      <th>...</th>\n",
       "      <td>...</td>\n",
       "      <td>...</td>\n",
       "      <td>...</td>\n",
       "      <td>...</td>\n",
       "      <td>...</td>\n",
       "      <td>...</td>\n",
       "      <td>...</td>\n",
       "    </tr>\n",
       "    <tr>\n",
       "      <th>8761</th>\n",
       "      <td>대전태평</td>\n",
       "      <td>(암반)</td>\n",
       "      <td>20161231</td>\n",
       "      <td>19</td>\n",
       "      <td>16.2</td>\n",
       "      <td>44.49</td>\n",
       "      <td>725</td>\n",
       "    </tr>\n",
       "    <tr>\n",
       "      <th>8762</th>\n",
       "      <td>대전태평</td>\n",
       "      <td>(암반)</td>\n",
       "      <td>20161231</td>\n",
       "      <td>20</td>\n",
       "      <td>16.2</td>\n",
       "      <td>44.49</td>\n",
       "      <td>725</td>\n",
       "    </tr>\n",
       "    <tr>\n",
       "      <th>8763</th>\n",
       "      <td>대전태평</td>\n",
       "      <td>(암반)</td>\n",
       "      <td>20161231</td>\n",
       "      <td>21</td>\n",
       "      <td>16.2</td>\n",
       "      <td>44.49</td>\n",
       "      <td>725</td>\n",
       "    </tr>\n",
       "    <tr>\n",
       "      <th>8764</th>\n",
       "      <td>대전태평</td>\n",
       "      <td>(암반)</td>\n",
       "      <td>20161231</td>\n",
       "      <td>22</td>\n",
       "      <td>16.2</td>\n",
       "      <td>44.49</td>\n",
       "      <td>725</td>\n",
       "    </tr>\n",
       "    <tr>\n",
       "      <th>8765</th>\n",
       "      <td>대전태평</td>\n",
       "      <td>(암반)</td>\n",
       "      <td>20161231</td>\n",
       "      <td>23</td>\n",
       "      <td>16.2</td>\n",
       "      <td>44.49</td>\n",
       "      <td>725</td>\n",
       "    </tr>\n",
       "  </tbody>\n",
       "</table>\n",
       "<p>69548 rows × 7 columns</p>\n",
       "</div>"
      ],
      "text/plain": [
       "       관측소    구분        날짜  시간  수온(℃)  수위(el.m)  EC(㎲/㎝)\n",
       "0     대전태평  (암반)  20090101   0   16.1     44.47      749\n",
       "1     대전태평  (암반)  20090101   1   16.1     44.47      749\n",
       "2     대전태평  (암반)  20090101   2   16.1     44.47      749\n",
       "3     대전태평  (암반)  20090101   3   16.1     44.47      749\n",
       "4     대전태평  (암반)  20090101   4   16.1     44.47      749\n",
       "...    ...   ...       ...  ..    ...       ...      ...\n",
       "8761  대전태평  (암반)  20161231  19   16.2     44.49      725\n",
       "8762  대전태평  (암반)  20161231  20   16.2     44.49      725\n",
       "8763  대전태평  (암반)  20161231  21   16.2     44.49      725\n",
       "8764  대전태평  (암반)  20161231  22   16.2     44.49      725\n",
       "8765  대전태평  (암반)  20161231  23   16.2     44.49      725\n",
       "\n",
       "[69548 rows x 7 columns]"
      ]
     },
     "execution_count": 43,
     "metadata": {},
     "output_type": "execute_result"
    }
   ],
   "source": [
    "df = pd.DataFrame() # 공백 프레임 만듬\n",
    "for i in file_list_py: # \n",
    "    data = pd.read_excel(path + i) # 한개씩 데이터를 읽음\n",
    "    df = pd.concat([df,data]) # 빈공백에 한개씩 읽은 데이터 concat함 (이어붙힘)\n",
    "df"
   ]
  },
  {
   "cell_type": "code",
   "execution_count": 44,
   "metadata": {},
   "outputs": [
    {
     "data": {
      "text/html": [
       "<div>\n",
       "<style scoped>\n",
       "    .dataframe tbody tr th:only-of-type {\n",
       "        vertical-align: middle;\n",
       "    }\n",
       "\n",
       "    .dataframe tbody tr th {\n",
       "        vertical-align: top;\n",
       "    }\n",
       "\n",
       "    .dataframe thead th {\n",
       "        text-align: right;\n",
       "    }\n",
       "</style>\n",
       "<table border=\"1\" class=\"dataframe\">\n",
       "  <thead>\n",
       "    <tr style=\"text-align: right;\">\n",
       "      <th></th>\n",
       "      <th>관측소</th>\n",
       "      <th>구분</th>\n",
       "      <th>날짜</th>\n",
       "      <th>시간</th>\n",
       "      <th>수온(℃)</th>\n",
       "      <th>수위(el.m)</th>\n",
       "      <th>EC(㎲/㎝)</th>\n",
       "    </tr>\n",
       "  </thead>\n",
       "  <tbody>\n",
       "    <tr>\n",
       "      <th>0</th>\n",
       "      <td>대전태평</td>\n",
       "      <td>(암반)</td>\n",
       "      <td>20090101</td>\n",
       "      <td>0</td>\n",
       "      <td>16.1</td>\n",
       "      <td>44.47</td>\n",
       "      <td>749</td>\n",
       "    </tr>\n",
       "    <tr>\n",
       "      <th>1</th>\n",
       "      <td>대전태평</td>\n",
       "      <td>(암반)</td>\n",
       "      <td>20090101</td>\n",
       "      <td>1</td>\n",
       "      <td>16.1</td>\n",
       "      <td>44.47</td>\n",
       "      <td>749</td>\n",
       "    </tr>\n",
       "    <tr>\n",
       "      <th>2</th>\n",
       "      <td>대전태평</td>\n",
       "      <td>(암반)</td>\n",
       "      <td>20090101</td>\n",
       "      <td>2</td>\n",
       "      <td>16.1</td>\n",
       "      <td>44.47</td>\n",
       "      <td>749</td>\n",
       "    </tr>\n",
       "  </tbody>\n",
       "</table>\n",
       "</div>"
      ],
      "text/plain": [
       "    관측소    구분        날짜  시간  수온(℃)  수위(el.m)  EC(㎲/㎝)\n",
       "0  대전태평  (암반)  20090101   0   16.1     44.47      749\n",
       "1  대전태평  (암반)  20090101   1   16.1     44.47      749\n",
       "2  대전태평  (암반)  20090101   2   16.1     44.47      749"
      ]
     },
     "execution_count": 44,
     "metadata": {},
     "output_type": "execute_result"
    }
   ],
   "source": [
    "df.head(3) # 데이터 앞에 3개만 보여줌"
   ]
  },
  {
   "cell_type": "code",
   "execution_count": 45,
   "metadata": {},
   "outputs": [
    {
     "data": {
      "text/html": [
       "<div>\n",
       "<style scoped>\n",
       "    .dataframe tbody tr th:only-of-type {\n",
       "        vertical-align: middle;\n",
       "    }\n",
       "\n",
       "    .dataframe tbody tr th {\n",
       "        vertical-align: top;\n",
       "    }\n",
       "\n",
       "    .dataframe thead th {\n",
       "        text-align: right;\n",
       "    }\n",
       "</style>\n",
       "<table border=\"1\" class=\"dataframe\">\n",
       "  <thead>\n",
       "    <tr style=\"text-align: right;\">\n",
       "      <th></th>\n",
       "      <th>관측소</th>\n",
       "      <th>구분</th>\n",
       "      <th>날짜</th>\n",
       "      <th>시간</th>\n",
       "      <th>수온(℃)</th>\n",
       "      <th>수위(el.m)</th>\n",
       "      <th>EC(㎲/㎝)</th>\n",
       "    </tr>\n",
       "  </thead>\n",
       "  <tbody>\n",
       "    <tr>\n",
       "      <th>8761</th>\n",
       "      <td>대전태평</td>\n",
       "      <td>(암반)</td>\n",
       "      <td>20161231</td>\n",
       "      <td>19</td>\n",
       "      <td>16.2</td>\n",
       "      <td>44.49</td>\n",
       "      <td>725</td>\n",
       "    </tr>\n",
       "    <tr>\n",
       "      <th>8762</th>\n",
       "      <td>대전태평</td>\n",
       "      <td>(암반)</td>\n",
       "      <td>20161231</td>\n",
       "      <td>20</td>\n",
       "      <td>16.2</td>\n",
       "      <td>44.49</td>\n",
       "      <td>725</td>\n",
       "    </tr>\n",
       "    <tr>\n",
       "      <th>8763</th>\n",
       "      <td>대전태평</td>\n",
       "      <td>(암반)</td>\n",
       "      <td>20161231</td>\n",
       "      <td>21</td>\n",
       "      <td>16.2</td>\n",
       "      <td>44.49</td>\n",
       "      <td>725</td>\n",
       "    </tr>\n",
       "    <tr>\n",
       "      <th>8764</th>\n",
       "      <td>대전태평</td>\n",
       "      <td>(암반)</td>\n",
       "      <td>20161231</td>\n",
       "      <td>22</td>\n",
       "      <td>16.2</td>\n",
       "      <td>44.49</td>\n",
       "      <td>725</td>\n",
       "    </tr>\n",
       "    <tr>\n",
       "      <th>8765</th>\n",
       "      <td>대전태평</td>\n",
       "      <td>(암반)</td>\n",
       "      <td>20161231</td>\n",
       "      <td>23</td>\n",
       "      <td>16.2</td>\n",
       "      <td>44.49</td>\n",
       "      <td>725</td>\n",
       "    </tr>\n",
       "  </tbody>\n",
       "</table>\n",
       "</div>"
      ],
      "text/plain": [
       "       관측소    구분        날짜  시간  수온(℃)  수위(el.m)  EC(㎲/㎝)\n",
       "8761  대전태평  (암반)  20161231  19   16.2     44.49      725\n",
       "8762  대전태평  (암반)  20161231  20   16.2     44.49      725\n",
       "8763  대전태평  (암반)  20161231  21   16.2     44.49      725\n",
       "8764  대전태평  (암반)  20161231  22   16.2     44.49      725\n",
       "8765  대전태평  (암반)  20161231  23   16.2     44.49      725"
      ]
     },
     "execution_count": 45,
     "metadata": {},
     "output_type": "execute_result"
    }
   ],
   "source": [
    "df.tail() # 데이터 뒤에 5개만 보여줌"
   ]
  },
  {
   "cell_type": "code",
   "execution_count": 46,
   "metadata": {},
   "outputs": [
    {
     "name": "stdout",
     "output_type": "stream",
     "text": [
      "<class 'pandas.core.frame.DataFrame'>\n",
      "RangeIndex: 69548 entries, 0 to 69547\n",
      "Data columns (total 7 columns):\n",
      " #   Column    Non-Null Count  Dtype  \n",
      "---  ------    --------------  -----  \n",
      " 0   관측소       69548 non-null  object \n",
      " 1   구분        69548 non-null  object \n",
      " 2   날짜        69548 non-null  int64  \n",
      " 3   시간        69548 non-null  int64  \n",
      " 4   수온(℃)     69548 non-null  float64\n",
      " 5   수위(el.m)  69548 non-null  float64\n",
      " 6   EC(㎲/㎝)   69548 non-null  int64  \n",
      "dtypes: float64(2), int64(3), object(2)\n",
      "memory usage: 3.7+ MB\n"
     ]
    }
   ],
   "source": [
    "df = df.reset_index(drop = True) ;  df # 기존 인덱스를 열로 바꿔라 \n",
    "\n",
    "df.info() # 어떤 값들로 이루어져있는지에 대한 정보"
   ]
  },
  {
   "cell_type": "code",
   "execution_count": 53,
   "metadata": {},
   "outputs": [
    {
     "data": {
      "text/html": [
       "<div>\n",
       "<style scoped>\n",
       "    .dataframe tbody tr th:only-of-type {\n",
       "        vertical-align: middle;\n",
       "    }\n",
       "\n",
       "    .dataframe tbody tr th {\n",
       "        vertical-align: top;\n",
       "    }\n",
       "\n",
       "    .dataframe thead th {\n",
       "        text-align: right;\n",
       "    }\n",
       "</style>\n",
       "<table border=\"1\" class=\"dataframe\">\n",
       "  <thead>\n",
       "    <tr style=\"text-align: right;\">\n",
       "      <th></th>\n",
       "      <th>관측소</th>\n",
       "      <th>구분</th>\n",
       "      <th>날짜</th>\n",
       "      <th>시간</th>\n",
       "      <th>수온(℃)</th>\n",
       "      <th>수위(el.m)</th>\n",
       "      <th>EC(㎲/㎝)</th>\n",
       "      <th>Data</th>\n",
       "    </tr>\n",
       "  </thead>\n",
       "  <tbody>\n",
       "    <tr>\n",
       "      <th>0</th>\n",
       "      <td>대전태평</td>\n",
       "      <td>(암반)</td>\n",
       "      <td>20090101</td>\n",
       "      <td>0</td>\n",
       "      <td>16.1</td>\n",
       "      <td>44.47</td>\n",
       "      <td>749</td>\n",
       "      <td>2009-01-01 00:00:00</td>\n",
       "    </tr>\n",
       "    <tr>\n",
       "      <th>1</th>\n",
       "      <td>대전태평</td>\n",
       "      <td>(암반)</td>\n",
       "      <td>20090101</td>\n",
       "      <td>1</td>\n",
       "      <td>16.1</td>\n",
       "      <td>44.47</td>\n",
       "      <td>749</td>\n",
       "      <td>2009-01-01 01:00:00</td>\n",
       "    </tr>\n",
       "    <tr>\n",
       "      <th>2</th>\n",
       "      <td>대전태평</td>\n",
       "      <td>(암반)</td>\n",
       "      <td>20090101</td>\n",
       "      <td>2</td>\n",
       "      <td>16.1</td>\n",
       "      <td>44.47</td>\n",
       "      <td>749</td>\n",
       "      <td>2009-01-01 02:00:00</td>\n",
       "    </tr>\n",
       "  </tbody>\n",
       "</table>\n",
       "</div>"
      ],
      "text/plain": [
       "    관측소    구분        날짜  시간  수온(℃)  수위(el.m)  EC(㎲/㎝)                Data\n",
       "0  대전태평  (암반)  20090101   0   16.1     44.47      749 2009-01-01 00:00:00\n",
       "1  대전태평  (암반)  20090101   1   16.1     44.47      749 2009-01-01 01:00:00\n",
       "2  대전태평  (암반)  20090101   2   16.1     44.47      749 2009-01-01 02:00:00"
      ]
     },
     "execution_count": 53,
     "metadata": {},
     "output_type": "execute_result"
    }
   ],
   "source": [
    "df['Data'] = pd.to_datetime(df['날짜'], format='%Y%m%d') + \\\n",
    "             pd.to_timedelta(df['시간'].astype(int), unit='h')\n",
    "\n",
    "#df.set_index(df['Data'],inplace = True)\n",
    "df.head(3) "
   ]
  },
  {
   "cell_type": "code",
   "execution_count": 54,
   "metadata": {},
   "outputs": [
    {
     "data": {
      "text/html": [
       "<div>\n",
       "<style scoped>\n",
       "    .dataframe tbody tr th:only-of-type {\n",
       "        vertical-align: middle;\n",
       "    }\n",
       "\n",
       "    .dataframe tbody tr th {\n",
       "        vertical-align: top;\n",
       "    }\n",
       "\n",
       "    .dataframe thead th {\n",
       "        text-align: right;\n",
       "    }\n",
       "</style>\n",
       "<table border=\"1\" class=\"dataframe\">\n",
       "  <thead>\n",
       "    <tr style=\"text-align: right;\">\n",
       "      <th></th>\n",
       "      <th>temp</th>\n",
       "      <th>level</th>\n",
       "      <th>EC</th>\n",
       "    </tr>\n",
       "  </thead>\n",
       "  <tbody>\n",
       "    <tr>\n",
       "      <th>0</th>\n",
       "      <td>16.1</td>\n",
       "      <td>44.47</td>\n",
       "      <td>749</td>\n",
       "    </tr>\n",
       "    <tr>\n",
       "      <th>1</th>\n",
       "      <td>16.1</td>\n",
       "      <td>44.47</td>\n",
       "      <td>749</td>\n",
       "    </tr>\n",
       "    <tr>\n",
       "      <th>2</th>\n",
       "      <td>16.1</td>\n",
       "      <td>44.47</td>\n",
       "      <td>749</td>\n",
       "    </tr>\n",
       "  </tbody>\n",
       "</table>\n",
       "</div>"
      ],
      "text/plain": [
       "   temp  level   EC\n",
       "0  16.1  44.47  749\n",
       "1  16.1  44.47  749\n",
       "2  16.1  44.47  749"
      ]
     },
     "execution_count": 54,
     "metadata": {},
     "output_type": "execute_result"
    }
   ],
   "source": [
    "df1 = df[['수온(℃)','수위(el.m)','EC(㎲/㎝)']]\n",
    "df1.columns = ['temp', 'level', 'EC']\n",
    "df1.head(3)"
   ]
  },
  {
   "cell_type": "code",
   "execution_count": 55,
   "metadata": {},
   "outputs": [
    {
     "data": {
      "text/plain": [
       "temp     0\n",
       "level    0\n",
       "EC       0\n",
       "dtype: int64"
      ]
     },
     "execution_count": 55,
     "metadata": {},
     "output_type": "execute_result"
    }
   ],
   "source": [
    "df1.isnull().sum()"
   ]
  },
  {
   "cell_type": "code",
   "execution_count": 56,
   "metadata": {},
   "outputs": [],
   "source": [
    "df1.to_csv('reference files/csv/대전지하수.csv',encoding='cp949')"
   ]
  },
  {
   "cell_type": "markdown",
   "metadata": {},
   "source": [
    "## 이상치 확인 및 제거"
   ]
  },
  {
   "cell_type": "code",
   "execution_count": 57,
   "metadata": {},
   "outputs": [
    {
     "data": {
      "text/html": [
       "<div>\n",
       "<style scoped>\n",
       "    .dataframe tbody tr th:only-of-type {\n",
       "        vertical-align: middle;\n",
       "    }\n",
       "\n",
       "    .dataframe tbody tr th {\n",
       "        vertical-align: top;\n",
       "    }\n",
       "\n",
       "    .dataframe thead th {\n",
       "        text-align: right;\n",
       "    }\n",
       "</style>\n",
       "<table border=\"1\" class=\"dataframe\">\n",
       "  <thead>\n",
       "    <tr style=\"text-align: right;\">\n",
       "      <th></th>\n",
       "      <th>Unnamed: 0</th>\n",
       "      <th>temp</th>\n",
       "      <th>level</th>\n",
       "      <th>EC</th>\n",
       "    </tr>\n",
       "  </thead>\n",
       "  <tbody>\n",
       "    <tr>\n",
       "      <th>0</th>\n",
       "      <td>0</td>\n",
       "      <td>16.1</td>\n",
       "      <td>44.47</td>\n",
       "      <td>749</td>\n",
       "    </tr>\n",
       "    <tr>\n",
       "      <th>1</th>\n",
       "      <td>1</td>\n",
       "      <td>16.1</td>\n",
       "      <td>44.47</td>\n",
       "      <td>749</td>\n",
       "    </tr>\n",
       "    <tr>\n",
       "      <th>2</th>\n",
       "      <td>2</td>\n",
       "      <td>16.1</td>\n",
       "      <td>44.47</td>\n",
       "      <td>749</td>\n",
       "    </tr>\n",
       "    <tr>\n",
       "      <th>3</th>\n",
       "      <td>3</td>\n",
       "      <td>16.1</td>\n",
       "      <td>44.47</td>\n",
       "      <td>749</td>\n",
       "    </tr>\n",
       "  </tbody>\n",
       "</table>\n",
       "</div>"
      ],
      "text/plain": [
       "   Unnamed: 0  temp  level   EC\n",
       "0           0  16.1  44.47  749\n",
       "1           1  16.1  44.47  749\n",
       "2           2  16.1  44.47  749\n",
       "3           3  16.1  44.47  749"
      ]
     },
     "execution_count": 57,
     "metadata": {},
     "output_type": "execute_result"
    }
   ],
   "source": [
    "df2 = pd.read_csv('reference files/csv/대전지하수.csv',parse_dates=True,encoding='cp949')\n",
    "df2.head(4)"
   ]
  },
  {
   "cell_type": "code",
   "execution_count": 80,
   "metadata": {},
   "outputs": [
    {
     "data": {
      "text/html": [
       "<div>\n",
       "<style scoped>\n",
       "    .dataframe tbody tr th:only-of-type {\n",
       "        vertical-align: middle;\n",
       "    }\n",
       "\n",
       "    .dataframe tbody tr th {\n",
       "        vertical-align: top;\n",
       "    }\n",
       "\n",
       "    .dataframe thead th {\n",
       "        text-align: right;\n",
       "    }\n",
       "</style>\n",
       "<table border=\"1\" class=\"dataframe\">\n",
       "  <thead>\n",
       "    <tr style=\"text-align: right;\">\n",
       "      <th></th>\n",
       "      <th>Unnamed: 0</th>\n",
       "      <th>temp</th>\n",
       "      <th>level</th>\n",
       "      <th>EC</th>\n",
       "    </tr>\n",
       "  </thead>\n",
       "  <tbody>\n",
       "    <tr>\n",
       "      <th>count</th>\n",
       "      <td>69548.000000</td>\n",
       "      <td>69548.000000</td>\n",
       "      <td>69548.000000</td>\n",
       "      <td>69548.000000</td>\n",
       "    </tr>\n",
       "    <tr>\n",
       "      <th>mean</th>\n",
       "      <td>34773.500000</td>\n",
       "      <td>16.262491</td>\n",
       "      <td>44.295353</td>\n",
       "      <td>727.024027</td>\n",
       "    </tr>\n",
       "    <tr>\n",
       "      <th>std</th>\n",
       "      <td>20076.922598</td>\n",
       "      <td>0.089778</td>\n",
       "      <td>2.539464</td>\n",
       "      <td>51.544590</td>\n",
       "    </tr>\n",
       "    <tr>\n",
       "      <th>min</th>\n",
       "      <td>0.000000</td>\n",
       "      <td>15.800000</td>\n",
       "      <td>11.530000</td>\n",
       "      <td>13.000000</td>\n",
       "    </tr>\n",
       "    <tr>\n",
       "      <th>25%</th>\n",
       "      <td>17386.750000</td>\n",
       "      <td>16.200000</td>\n",
       "      <td>44.370000</td>\n",
       "      <td>722.000000</td>\n",
       "    </tr>\n",
       "    <tr>\n",
       "      <th>50%</th>\n",
       "      <td>34773.500000</td>\n",
       "      <td>16.300000</td>\n",
       "      <td>44.460000</td>\n",
       "      <td>730.000000</td>\n",
       "    </tr>\n",
       "    <tr>\n",
       "      <th>75%</th>\n",
       "      <td>52160.250000</td>\n",
       "      <td>16.300000</td>\n",
       "      <td>44.550000</td>\n",
       "      <td>742.000000</td>\n",
       "    </tr>\n",
       "    <tr>\n",
       "      <th>max</th>\n",
       "      <td>69547.000000</td>\n",
       "      <td>16.500000</td>\n",
       "      <td>45.900000</td>\n",
       "      <td>778.000000</td>\n",
       "    </tr>\n",
       "  </tbody>\n",
       "</table>\n",
       "</div>"
      ],
      "text/plain": [
       "         Unnamed: 0          temp         level            EC\n",
       "count  69548.000000  69548.000000  69548.000000  69548.000000\n",
       "mean   34773.500000     16.262491     44.295353    727.024027\n",
       "std    20076.922598      0.089778      2.539464     51.544590\n",
       "min        0.000000     15.800000     11.530000     13.000000\n",
       "25%    17386.750000     16.200000     44.370000    722.000000\n",
       "50%    34773.500000     16.300000     44.460000    730.000000\n",
       "75%    52160.250000     16.300000     44.550000    742.000000\n",
       "max    69547.000000     16.500000     45.900000    778.000000"
      ]
     },
     "execution_count": 80,
     "metadata": {},
     "output_type": "execute_result"
    }
   ],
   "source": [
    "df2.describe()"
   ]
  },
  {
   "cell_type": "code",
   "execution_count": 82,
   "metadata": {},
   "outputs": [
    {
     "data": {
      "image/png": "[encoded data removed]",
      "text/plain": [
       "<Figure size 1000x600 with 4 Axes>"
      ]
     },
     "metadata": {},
     "output_type": "display_data"
    }
   ],
   "source": [
    "import matplotlib.pyplot as plt\n",
    "plt.rcParams['font.family'] ='Malgun Gothic'\n",
    "plt.rcParams['axes.unicode_minus'] =False\n",
    "\n",
    "df2.hist(bins=50,figsize=(10,6))\n",
    "plt.show()"
   ]
  },
  {
   "cell_type": "code",
   "execution_count": 87,
   "metadata": {},
   "outputs": [
    {
     "data": {
      "image/png": "[encoded data removed]",
      "text/plain": [
       "<Figure size 640x480 with 1 Axes>"
      ]
     },
     "metadata": {},
     "output_type": "display_data"
    }
   ],
   "source": [
    "df2.boxplot(column='EC')\n",
    "plt.show()"
   ]
  },
  {
   "cell_type": "code",
   "execution_count": 90,
   "metadata": {},
   "outputs": [
    {
     "data": {
      "image/png": "[encoded data removed]",
      "text/plain": [
       "<Figure size 640x480 with 3 Axes>"
      ]
     },
     "metadata": {},
     "output_type": "display_data"
    }
   ],
   "source": [
    "plt.subplot(1,3,1);df2.boxplot(column='temp',return_type='both')\n",
    "plt.subplot(1,3,2);df2.boxplot(column='level',return_type='both')\n",
    "plt.subplot(1,3,3);df2.boxplot(column='EC',return_type='both')\n",
    "plt.show()"
   ]
  },
  {
   "cell_type": "code",
   "execution_count": 91,
   "metadata": {},
   "outputs": [
    {
     "name": "stdout",
     "output_type": "stream",
     "text": [
      "Q3: 44.55\n",
      "Q1: 44.37\n",
      "IQR: 0.17999999999999972\n"
     ]
    }
   ],
   "source": [
    "q3_level = df2['level'].quantile(q=0.75)\n",
    "print(\"Q3:\", q3_level)\n",
    "\n",
    "q1_level = df2['level'].quantile(q=0.25)\n",
    "print(\"Q1:\", q1_level)\n",
    "\n",
    "iqr_level = q3_level - q1_level\n",
    "print(\"IQR:\", iqr_level)"
   ]
  },
  {
   "cell_type": "code",
   "execution_count": 92,
   "metadata": {},
   "outputs": [
    {
     "name": "stdout",
     "output_type": "stream",
     "text": [
      "Upper Level: 44.81999999999999\n",
      "Lower Level: 44.099999999999994\n",
      "Values above upper level: 4492\n",
      "Values below lower level: 1273\n"
     ]
    }
   ],
   "source": [
    "upper_level = q3_level + 1.5 * iqr_level\n",
    "lower_level = q1_level - 1.5 * iqr_level\n",
    "\n",
    "print(\"Upper Level:\", upper_level)\n",
    "print(\"Lower Level:\", lower_level)\n",
    "\n",
    "print(\"Values above upper level:\", (df2['level'] > upper_level).sum())\n",
    "print(\"Values below lower level:\", (df2['level'] < lower_level).sum())"
   ]
  },
  {
   "cell_type": "code",
   "execution_count": 93,
   "metadata": {},
   "outputs": [],
   "source": [
    "df_iqr_level = df2[(df2['level'] > upper_level) & (df2['level'] < lower_level)]"
   ]
  }
 ],
 "metadata": {
  "colab": {
   "authorship_tag": "ABX9TyMn9OU79hyGhgT3Q7jtW4Kp",
   "provenance": []
  },
  "kernelspec": {
   "display_name": "Python 3 (ipykernel)",
   "language": "python",
   "name": "python3"
  },
  "language_info": {
   "codemirror_mode": {
    "name": "ipython",
    "version": 3
   },
   "file_extension": ".py",
   "mimetype": "text/x-python",
   "name": "python",
   "nbconvert_exporter": "python",
   "pygments_lexer": "ipython3",
   "version": "3.12.3"
  }
 },
 "nbformat": 4,
 "nbformat_minor": 4
}
