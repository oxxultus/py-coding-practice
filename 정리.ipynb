{
 "cells": [
  {
   "cell_type": "markdown",
   "id": "9c468a22-e4c9-47d6-83b0-8b6e9fdcdec8",
   "metadata": {},
   "source": [
    "2.1 탐색적 분석 정의\n",
    "분석할 데이터의 전체적인 특성을 살펴보는것 데이터 탐색\n",
    "데이터 탐색에 데이터를 시각화하여 그래프를 그려보는 방법이 기본\n",
    "히트소토그램,박스플롯\n",
    "범주형\n",
    "1 편의상 문자를 숫자로 대체하는것 2 ex) 요일을 월화수 -> 1 2 3\n",
    "\n",
    "순서형\n",
    "1 여성의 옷 사이즈를 나타내는 44 55 66같은 것들\n",
    "\n",
    "정형과 비정형 데이터\n",
    "1 정형화된 데이터로 바꿔줘야함"
   ]
  },
  {
   "cell_type": "code",
   "execution_count": null,
   "id": "78c1c4d0-aff7-45bb-a99f-ea304485d6b7",
   "metadata": {},
   "outputs": [],
   "source": []
  }
 ],
 "metadata": {
  "kernelspec": {
   "display_name": "Python 3 (ipykernel)",
   "language": "python",
   "name": "python3"
  },
  "language_info": {
   "codemirror_mode": {
    "name": "ipython",
    "version": 3
   },
   "file_extension": ".py",
   "mimetype": "text/x-python",
   "name": "python",
   "nbconvert_exporter": "python",
   "pygments_lexer": "ipython3",
   "version": "3.11.7"
  }
 },
 "nbformat": 4,
 "nbformat_minor": 5
}
